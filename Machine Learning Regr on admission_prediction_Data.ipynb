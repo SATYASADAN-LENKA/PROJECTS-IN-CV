{
 "cells": [
  {
   "cell_type": "code",
   "execution_count": 1,
   "id": "a1bfb625-038f-42ef-9544-57a2510fa96f",
   "metadata": {},
   "outputs": [],
   "source": [
    "import pandas as pd\n",
    "import numpy as np\n",
    "import seaborn as sns\n",
    "import matplotlib.pyplot as plt\n",
    "import warnings\n",
    "warnings.simplefilter('ignore')"
   ]
  },
  {
   "cell_type": "code",
   "execution_count": 2,
   "id": "b40c2d41-a1e6-47ab-8e65-fcbd6aa74a0c",
   "metadata": {},
   "outputs": [
    {
     "data": {
      "text/html": [
       "<div>\n",
       "<style scoped>\n",
       "    .dataframe tbody tr th:only-of-type {\n",
       "        vertical-align: middle;\n",
       "    }\n",
       "\n",
       "    .dataframe tbody tr th {\n",
       "        vertical-align: top;\n",
       "    }\n",
       "\n",
       "    .dataframe thead th {\n",
       "        text-align: right;\n",
       "    }\n",
       "</style>\n",
       "<table border=\"1\" class=\"dataframe\">\n",
       "  <thead>\n",
       "    <tr style=\"text-align: right;\">\n",
       "      <th></th>\n",
       "      <th>Serial No.</th>\n",
       "      <th>GRE Score</th>\n",
       "      <th>TOEFL Score</th>\n",
       "      <th>University Rating</th>\n",
       "      <th>SOP</th>\n",
       "      <th>LOR</th>\n",
       "      <th>CGPA</th>\n",
       "      <th>Research</th>\n",
       "      <th>Chance of Admit</th>\n",
       "    </tr>\n",
       "  </thead>\n",
       "  <tbody>\n",
       "    <tr>\n",
       "      <th>0</th>\n",
       "      <td>1</td>\n",
       "      <td>337</td>\n",
       "      <td>118</td>\n",
       "      <td>4</td>\n",
       "      <td>4.5</td>\n",
       "      <td>4.5</td>\n",
       "      <td>9.65</td>\n",
       "      <td>1</td>\n",
       "      <td>0.92</td>\n",
       "    </tr>\n",
       "    <tr>\n",
       "      <th>1</th>\n",
       "      <td>2</td>\n",
       "      <td>324</td>\n",
       "      <td>107</td>\n",
       "      <td>4</td>\n",
       "      <td>4.0</td>\n",
       "      <td>4.5</td>\n",
       "      <td>8.87</td>\n",
       "      <td>1</td>\n",
       "      <td>0.76</td>\n",
       "    </tr>\n",
       "    <tr>\n",
       "      <th>2</th>\n",
       "      <td>3</td>\n",
       "      <td>316</td>\n",
       "      <td>104</td>\n",
       "      <td>3</td>\n",
       "      <td>3.0</td>\n",
       "      <td>3.5</td>\n",
       "      <td>8.00</td>\n",
       "      <td>1</td>\n",
       "      <td>0.72</td>\n",
       "    </tr>\n",
       "    <tr>\n",
       "      <th>3</th>\n",
       "      <td>4</td>\n",
       "      <td>322</td>\n",
       "      <td>110</td>\n",
       "      <td>3</td>\n",
       "      <td>3.5</td>\n",
       "      <td>2.5</td>\n",
       "      <td>8.67</td>\n",
       "      <td>1</td>\n",
       "      <td>0.80</td>\n",
       "    </tr>\n",
       "    <tr>\n",
       "      <th>4</th>\n",
       "      <td>5</td>\n",
       "      <td>314</td>\n",
       "      <td>103</td>\n",
       "      <td>2</td>\n",
       "      <td>2.0</td>\n",
       "      <td>3.0</td>\n",
       "      <td>8.21</td>\n",
       "      <td>0</td>\n",
       "      <td>0.65</td>\n",
       "    </tr>\n",
       "    <tr>\n",
       "      <th>...</th>\n",
       "      <td>...</td>\n",
       "      <td>...</td>\n",
       "      <td>...</td>\n",
       "      <td>...</td>\n",
       "      <td>...</td>\n",
       "      <td>...</td>\n",
       "      <td>...</td>\n",
       "      <td>...</td>\n",
       "      <td>...</td>\n",
       "    </tr>\n",
       "    <tr>\n",
       "      <th>495</th>\n",
       "      <td>496</td>\n",
       "      <td>332</td>\n",
       "      <td>108</td>\n",
       "      <td>5</td>\n",
       "      <td>4.5</td>\n",
       "      <td>4.0</td>\n",
       "      <td>9.02</td>\n",
       "      <td>1</td>\n",
       "      <td>0.87</td>\n",
       "    </tr>\n",
       "    <tr>\n",
       "      <th>496</th>\n",
       "      <td>497</td>\n",
       "      <td>337</td>\n",
       "      <td>117</td>\n",
       "      <td>5</td>\n",
       "      <td>5.0</td>\n",
       "      <td>5.0</td>\n",
       "      <td>9.87</td>\n",
       "      <td>1</td>\n",
       "      <td>0.96</td>\n",
       "    </tr>\n",
       "    <tr>\n",
       "      <th>497</th>\n",
       "      <td>498</td>\n",
       "      <td>330</td>\n",
       "      <td>120</td>\n",
       "      <td>5</td>\n",
       "      <td>4.5</td>\n",
       "      <td>5.0</td>\n",
       "      <td>9.56</td>\n",
       "      <td>1</td>\n",
       "      <td>0.93</td>\n",
       "    </tr>\n",
       "    <tr>\n",
       "      <th>498</th>\n",
       "      <td>499</td>\n",
       "      <td>312</td>\n",
       "      <td>103</td>\n",
       "      <td>4</td>\n",
       "      <td>4.0</td>\n",
       "      <td>5.0</td>\n",
       "      <td>8.43</td>\n",
       "      <td>0</td>\n",
       "      <td>0.73</td>\n",
       "    </tr>\n",
       "    <tr>\n",
       "      <th>499</th>\n",
       "      <td>500</td>\n",
       "      <td>327</td>\n",
       "      <td>113</td>\n",
       "      <td>4</td>\n",
       "      <td>4.5</td>\n",
       "      <td>4.5</td>\n",
       "      <td>9.04</td>\n",
       "      <td>0</td>\n",
       "      <td>0.84</td>\n",
       "    </tr>\n",
       "  </tbody>\n",
       "</table>\n",
       "<p>500 rows × 9 columns</p>\n",
       "</div>"
      ],
      "text/plain": [
       "     Serial No.  GRE Score  TOEFL Score  University Rating  SOP  LOR   CGPA  \\\n",
       "0             1        337          118                  4  4.5   4.5  9.65   \n",
       "1             2        324          107                  4  4.0   4.5  8.87   \n",
       "2             3        316          104                  3  3.0   3.5  8.00   \n",
       "3             4        322          110                  3  3.5   2.5  8.67   \n",
       "4             5        314          103                  2  2.0   3.0  8.21   \n",
       "..          ...        ...          ...                ...  ...   ...   ...   \n",
       "495         496        332          108                  5  4.5   4.0  9.02   \n",
       "496         497        337          117                  5  5.0   5.0  9.87   \n",
       "497         498        330          120                  5  4.5   5.0  9.56   \n",
       "498         499        312          103                  4  4.0   5.0  8.43   \n",
       "499         500        327          113                  4  4.5   4.5  9.04   \n",
       "\n",
       "     Research  Chance of Admit   \n",
       "0           1              0.92  \n",
       "1           1              0.76  \n",
       "2           1              0.72  \n",
       "3           1              0.80  \n",
       "4           0              0.65  \n",
       "..        ...               ...  \n",
       "495         1              0.87  \n",
       "496         1              0.96  \n",
       "497         1              0.93  \n",
       "498         0              0.73  \n",
       "499         0              0.84  \n",
       "\n",
       "[500 rows x 9 columns]"
      ]
     },
     "execution_count": 2,
     "metadata": {},
     "output_type": "execute_result"
    }
   ],
   "source": [
    "df = pd.read_csv('admission_predict.csv')\n",
    "df"
   ]
  },
  {
   "cell_type": "code",
   "execution_count": 3,
   "id": "9ddd8337-9801-424e-bb37-385669eaacc9",
   "metadata": {},
   "outputs": [
    {
     "name": "stdout",
     "output_type": "stream",
     "text": [
      "<class 'pandas.core.frame.DataFrame'>\n",
      "RangeIndex: 500 entries, 0 to 499\n",
      "Data columns (total 9 columns):\n",
      " #   Column             Non-Null Count  Dtype  \n",
      "---  ------             --------------  -----  \n",
      " 0   Serial No.         500 non-null    int64  \n",
      " 1   GRE Score          500 non-null    int64  \n",
      " 2   TOEFL Score        500 non-null    int64  \n",
      " 3   University Rating  500 non-null    int64  \n",
      " 4   SOP                500 non-null    float64\n",
      " 5   LOR                500 non-null    float64\n",
      " 6   CGPA               500 non-null    float64\n",
      " 7   Research           500 non-null    int64  \n",
      " 8   Chance of Admit    500 non-null    float64\n",
      "dtypes: float64(4), int64(5)\n",
      "memory usage: 35.3 KB\n"
     ]
    }
   ],
   "source": [
    "df.info()"
   ]
  },
  {
   "cell_type": "code",
   "execution_count": 4,
   "id": "db8073ea-2e29-4349-b01f-f554e8e83d90",
   "metadata": {},
   "outputs": [
    {
     "data": {
      "text/plain": [
       "0"
      ]
     },
     "execution_count": 4,
     "metadata": {},
     "output_type": "execute_result"
    }
   ],
   "source": [
    "df.duplicated().sum()"
   ]
  },
  {
   "cell_type": "code",
   "execution_count": 5,
   "id": "7bafb339-f3a2-4df8-b51c-eecfb909c287",
   "metadata": {},
   "outputs": [
    {
     "data": {
      "text/html": [
       "<div>\n",
       "<style scoped>\n",
       "    .dataframe tbody tr th:only-of-type {\n",
       "        vertical-align: middle;\n",
       "    }\n",
       "\n",
       "    .dataframe tbody tr th {\n",
       "        vertical-align: top;\n",
       "    }\n",
       "\n",
       "    .dataframe thead th {\n",
       "        text-align: right;\n",
       "    }\n",
       "</style>\n",
       "<table border=\"1\" class=\"dataframe\">\n",
       "  <thead>\n",
       "    <tr style=\"text-align: right;\">\n",
       "      <th></th>\n",
       "      <th>GRE Score</th>\n",
       "      <th>TOEFL Score</th>\n",
       "      <th>University Rating</th>\n",
       "      <th>SOP</th>\n",
       "      <th>LOR</th>\n",
       "      <th>CGPA</th>\n",
       "      <th>Research</th>\n",
       "      <th>Chance of Admit</th>\n",
       "    </tr>\n",
       "  </thead>\n",
       "  <tbody>\n",
       "    <tr>\n",
       "      <th>0</th>\n",
       "      <td>337</td>\n",
       "      <td>118</td>\n",
       "      <td>4</td>\n",
       "      <td>4.5</td>\n",
       "      <td>4.5</td>\n",
       "      <td>9.65</td>\n",
       "      <td>1</td>\n",
       "      <td>0.92</td>\n",
       "    </tr>\n",
       "    <tr>\n",
       "      <th>1</th>\n",
       "      <td>324</td>\n",
       "      <td>107</td>\n",
       "      <td>4</td>\n",
       "      <td>4.0</td>\n",
       "      <td>4.5</td>\n",
       "      <td>8.87</td>\n",
       "      <td>1</td>\n",
       "      <td>0.76</td>\n",
       "    </tr>\n",
       "    <tr>\n",
       "      <th>2</th>\n",
       "      <td>316</td>\n",
       "      <td>104</td>\n",
       "      <td>3</td>\n",
       "      <td>3.0</td>\n",
       "      <td>3.5</td>\n",
       "      <td>8.00</td>\n",
       "      <td>1</td>\n",
       "      <td>0.72</td>\n",
       "    </tr>\n",
       "    <tr>\n",
       "      <th>3</th>\n",
       "      <td>322</td>\n",
       "      <td>110</td>\n",
       "      <td>3</td>\n",
       "      <td>3.5</td>\n",
       "      <td>2.5</td>\n",
       "      <td>8.67</td>\n",
       "      <td>1</td>\n",
       "      <td>0.80</td>\n",
       "    </tr>\n",
       "    <tr>\n",
       "      <th>4</th>\n",
       "      <td>314</td>\n",
       "      <td>103</td>\n",
       "      <td>2</td>\n",
       "      <td>2.0</td>\n",
       "      <td>3.0</td>\n",
       "      <td>8.21</td>\n",
       "      <td>0</td>\n",
       "      <td>0.65</td>\n",
       "    </tr>\n",
       "    <tr>\n",
       "      <th>...</th>\n",
       "      <td>...</td>\n",
       "      <td>...</td>\n",
       "      <td>...</td>\n",
       "      <td>...</td>\n",
       "      <td>...</td>\n",
       "      <td>...</td>\n",
       "      <td>...</td>\n",
       "      <td>...</td>\n",
       "    </tr>\n",
       "    <tr>\n",
       "      <th>495</th>\n",
       "      <td>332</td>\n",
       "      <td>108</td>\n",
       "      <td>5</td>\n",
       "      <td>4.5</td>\n",
       "      <td>4.0</td>\n",
       "      <td>9.02</td>\n",
       "      <td>1</td>\n",
       "      <td>0.87</td>\n",
       "    </tr>\n",
       "    <tr>\n",
       "      <th>496</th>\n",
       "      <td>337</td>\n",
       "      <td>117</td>\n",
       "      <td>5</td>\n",
       "      <td>5.0</td>\n",
       "      <td>5.0</td>\n",
       "      <td>9.87</td>\n",
       "      <td>1</td>\n",
       "      <td>0.96</td>\n",
       "    </tr>\n",
       "    <tr>\n",
       "      <th>497</th>\n",
       "      <td>330</td>\n",
       "      <td>120</td>\n",
       "      <td>5</td>\n",
       "      <td>4.5</td>\n",
       "      <td>5.0</td>\n",
       "      <td>9.56</td>\n",
       "      <td>1</td>\n",
       "      <td>0.93</td>\n",
       "    </tr>\n",
       "    <tr>\n",
       "      <th>498</th>\n",
       "      <td>312</td>\n",
       "      <td>103</td>\n",
       "      <td>4</td>\n",
       "      <td>4.0</td>\n",
       "      <td>5.0</td>\n",
       "      <td>8.43</td>\n",
       "      <td>0</td>\n",
       "      <td>0.73</td>\n",
       "    </tr>\n",
       "    <tr>\n",
       "      <th>499</th>\n",
       "      <td>327</td>\n",
       "      <td>113</td>\n",
       "      <td>4</td>\n",
       "      <td>4.5</td>\n",
       "      <td>4.5</td>\n",
       "      <td>9.04</td>\n",
       "      <td>0</td>\n",
       "      <td>0.84</td>\n",
       "    </tr>\n",
       "  </tbody>\n",
       "</table>\n",
       "<p>500 rows × 8 columns</p>\n",
       "</div>"
      ],
      "text/plain": [
       "     GRE Score  TOEFL Score  University Rating  SOP  LOR   CGPA  Research  \\\n",
       "0          337          118                  4  4.5   4.5  9.65         1   \n",
       "1          324          107                  4  4.0   4.5  8.87         1   \n",
       "2          316          104                  3  3.0   3.5  8.00         1   \n",
       "3          322          110                  3  3.5   2.5  8.67         1   \n",
       "4          314          103                  2  2.0   3.0  8.21         0   \n",
       "..         ...          ...                ...  ...   ...   ...       ...   \n",
       "495        332          108                  5  4.5   4.0  9.02         1   \n",
       "496        337          117                  5  5.0   5.0  9.87         1   \n",
       "497        330          120                  5  4.5   5.0  9.56         1   \n",
       "498        312          103                  4  4.0   5.0  8.43         0   \n",
       "499        327          113                  4  4.5   4.5  9.04         0   \n",
       "\n",
       "     Chance of Admit   \n",
       "0                0.92  \n",
       "1                0.76  \n",
       "2                0.72  \n",
       "3                0.80  \n",
       "4                0.65  \n",
       "..                ...  \n",
       "495              0.87  \n",
       "496              0.96  \n",
       "497              0.93  \n",
       "498              0.73  \n",
       "499              0.84  \n",
       "\n",
       "[500 rows x 8 columns]"
      ]
     },
     "execution_count": 5,
     "metadata": {},
     "output_type": "execute_result"
    }
   ],
   "source": [
    "df = df.drop(columns='Serial No.')\n",
    "df"
   ]
  },
  {
   "cell_type": "code",
   "execution_count": 6,
   "id": "1e0267cb-a888-4e70-b38e-881736505b25",
   "metadata": {},
   "outputs": [
    {
     "data": {
      "text/plain": [
       "Index(['GRE_Score', 'TOEFL_Score', 'University_Rating', 'SOP', 'LOR', 'CGPA',\n",
       "       'Research', 'Chance_of_Admit'],\n",
       "      dtype='object')"
      ]
     },
     "execution_count": 6,
     "metadata": {},
     "output_type": "execute_result"
    }
   ],
   "source": [
    "df = df.rename(columns={'LOR ':'LOR','Chance of Admit ':'Chance_of_Admit','GRE Score':'GRE_Score', 'TOEFL Score':'TOEFL_Score', 'University Rating':'University_Rating'})\n",
    "df.columns"
   ]
  },
  {
   "cell_type": "code",
   "execution_count": 7,
   "id": "8a538de1-eb0f-4378-ad4a-97570450d0ae",
   "metadata": {},
   "outputs": [],
   "source": [
    "continous = ['GRE_Score', 'TOEFL_Score', 'University_Rating', 'SOP', 'LOR', 'CGPA','Chance_of_Admit']\n",
    "count = ['Research']"
   ]
  },
  {
   "cell_type": "code",
   "execution_count": 8,
   "id": "2e1b212c-6a9c-43ac-956f-d3276fbce1d1",
   "metadata": {},
   "outputs": [
    {
     "data": {
      "image/png": "[encoded data removed]",
      "text/plain": [
       "<Figure size 500x500 with 1 Axes>"
      ]
     },
     "metadata": {},
     "output_type": "display_data"
    }
   ],
   "source": [
    "sns.catplot(df[continous],kind='box')\n",
    "plt.show()"
   ]
  },
  {
   "cell_type": "code",
   "execution_count": 9,
   "id": "6d5ed2aa-3d3e-45e2-ab53-d5f597d8cad6",
   "metadata": {},
   "outputs": [
    {
     "data": {
      "text/html": [
       "<div>\n",
       "<style scoped>\n",
       "    .dataframe tbody tr th:only-of-type {\n",
       "        vertical-align: middle;\n",
       "    }\n",
       "\n",
       "    .dataframe tbody tr th {\n",
       "        vertical-align: top;\n",
       "    }\n",
       "\n",
       "    .dataframe thead th {\n",
       "        text-align: right;\n",
       "    }\n",
       "</style>\n",
       "<table border=\"1\" class=\"dataframe\">\n",
       "  <thead>\n",
       "    <tr style=\"text-align: right;\">\n",
       "      <th></th>\n",
       "      <th>GRE_Score</th>\n",
       "      <th>TOEFL_Score</th>\n",
       "      <th>University_Rating</th>\n",
       "      <th>SOP</th>\n",
       "      <th>LOR</th>\n",
       "      <th>CGPA</th>\n",
       "      <th>Chance_of_Admit</th>\n",
       "    </tr>\n",
       "  </thead>\n",
       "  <tbody>\n",
       "    <tr>\n",
       "      <th>count</th>\n",
       "      <td>500.000000</td>\n",
       "      <td>500.000000</td>\n",
       "      <td>500.000000</td>\n",
       "      <td>500.000000</td>\n",
       "      <td>500.00000</td>\n",
       "      <td>500.000000</td>\n",
       "      <td>500.00000</td>\n",
       "    </tr>\n",
       "    <tr>\n",
       "      <th>mean</th>\n",
       "      <td>316.472000</td>\n",
       "      <td>107.192000</td>\n",
       "      <td>3.114000</td>\n",
       "      <td>3.374000</td>\n",
       "      <td>3.48400</td>\n",
       "      <td>8.576440</td>\n",
       "      <td>0.72174</td>\n",
       "    </tr>\n",
       "    <tr>\n",
       "      <th>std</th>\n",
       "      <td>11.295148</td>\n",
       "      <td>6.081868</td>\n",
       "      <td>1.143512</td>\n",
       "      <td>0.991004</td>\n",
       "      <td>0.92545</td>\n",
       "      <td>0.604813</td>\n",
       "      <td>0.14114</td>\n",
       "    </tr>\n",
       "    <tr>\n",
       "      <th>min</th>\n",
       "      <td>290.000000</td>\n",
       "      <td>92.000000</td>\n",
       "      <td>1.000000</td>\n",
       "      <td>1.000000</td>\n",
       "      <td>1.00000</td>\n",
       "      <td>6.800000</td>\n",
       "      <td>0.34000</td>\n",
       "    </tr>\n",
       "    <tr>\n",
       "      <th>25%</th>\n",
       "      <td>308.000000</td>\n",
       "      <td>103.000000</td>\n",
       "      <td>2.000000</td>\n",
       "      <td>2.500000</td>\n",
       "      <td>3.00000</td>\n",
       "      <td>8.127500</td>\n",
       "      <td>0.63000</td>\n",
       "    </tr>\n",
       "    <tr>\n",
       "      <th>50%</th>\n",
       "      <td>317.000000</td>\n",
       "      <td>107.000000</td>\n",
       "      <td>3.000000</td>\n",
       "      <td>3.500000</td>\n",
       "      <td>3.50000</td>\n",
       "      <td>8.560000</td>\n",
       "      <td>0.72000</td>\n",
       "    </tr>\n",
       "    <tr>\n",
       "      <th>75%</th>\n",
       "      <td>325.000000</td>\n",
       "      <td>112.000000</td>\n",
       "      <td>4.000000</td>\n",
       "      <td>4.000000</td>\n",
       "      <td>4.00000</td>\n",
       "      <td>9.040000</td>\n",
       "      <td>0.82000</td>\n",
       "    </tr>\n",
       "    <tr>\n",
       "      <th>max</th>\n",
       "      <td>340.000000</td>\n",
       "      <td>120.000000</td>\n",
       "      <td>5.000000</td>\n",
       "      <td>5.000000</td>\n",
       "      <td>5.00000</td>\n",
       "      <td>9.920000</td>\n",
       "      <td>0.97000</td>\n",
       "    </tr>\n",
       "  </tbody>\n",
       "</table>\n",
       "</div>"
      ],
      "text/plain": [
       "        GRE_Score  TOEFL_Score  University_Rating         SOP        LOR  \\\n",
       "count  500.000000   500.000000         500.000000  500.000000  500.00000   \n",
       "mean   316.472000   107.192000           3.114000    3.374000    3.48400   \n",
       "std     11.295148     6.081868           1.143512    0.991004    0.92545   \n",
       "min    290.000000    92.000000           1.000000    1.000000    1.00000   \n",
       "25%    308.000000   103.000000           2.000000    2.500000    3.00000   \n",
       "50%    317.000000   107.000000           3.000000    3.500000    3.50000   \n",
       "75%    325.000000   112.000000           4.000000    4.000000    4.00000   \n",
       "max    340.000000   120.000000           5.000000    5.000000    5.00000   \n",
       "\n",
       "             CGPA  Chance_of_Admit  \n",
       "count  500.000000        500.00000  \n",
       "mean     8.576440          0.72174  \n",
       "std      0.604813          0.14114  \n",
       "min      6.800000          0.34000  \n",
       "25%      8.127500          0.63000  \n",
       "50%      8.560000          0.72000  \n",
       "75%      9.040000          0.82000  \n",
       "max      9.920000          0.97000  "
      ]
     },
     "execution_count": 9,
     "metadata": {},
     "output_type": "execute_result"
    }
   ],
   "source": [
    "df[continous].describe()"
   ]
  },
  {
   "cell_type": "code",
   "execution_count": 10,
   "id": "869fd975-233c-4142-8671-6fd38fc61232",
   "metadata": {},
   "outputs": [
    {
     "data": {
      "text/plain": [
       "Research\n",
       "1    280\n",
       "0    220\n",
       "Name: count, dtype: int64"
      ]
     },
     "execution_count": 10,
     "metadata": {},
     "output_type": "execute_result"
    }
   ],
   "source": [
    "df['Research'].value_counts()"
   ]
  },
  {
   "cell_type": "code",
   "execution_count": 11,
   "id": "d0d4fbdc-c557-4255-9bf0-acee8ef40cae",
   "metadata": {},
   "outputs": [],
   "source": [
    "# acc to the above data set data_cleaning and data_trasform is not required"
   ]
  },
  {
   "cell_type": "code",
   "execution_count": 12,
   "id": "609ce0a0-bad1-4527-9bf9-18687cf5b5d2",
   "metadata": {},
   "outputs": [
    {
     "data": {
      "text/html": [
       "<div>\n",
       "<style scoped>\n",
       "    .dataframe tbody tr th:only-of-type {\n",
       "        vertical-align: middle;\n",
       "    }\n",
       "\n",
       "    .dataframe tbody tr th {\n",
       "        vertical-align: top;\n",
       "    }\n",
       "\n",
       "    .dataframe thead th {\n",
       "        text-align: right;\n",
       "    }\n",
       "</style>\n",
       "<table border=\"1\" class=\"dataframe\">\n",
       "  <thead>\n",
       "    <tr style=\"text-align: right;\">\n",
       "      <th></th>\n",
       "      <th>GRE_Score</th>\n",
       "      <th>TOEFL_Score</th>\n",
       "      <th>University_Rating</th>\n",
       "      <th>SOP</th>\n",
       "      <th>LOR</th>\n",
       "      <th>CGPA</th>\n",
       "      <th>Research</th>\n",
       "    </tr>\n",
       "  </thead>\n",
       "  <tbody>\n",
       "    <tr>\n",
       "      <th>GRE_Score</th>\n",
       "      <td>1.000000</td>\n",
       "      <td>0.827200</td>\n",
       "      <td>0.635376</td>\n",
       "      <td>0.613498</td>\n",
       "      <td>0.524679</td>\n",
       "      <td>0.825878</td>\n",
       "      <td>0.563398</td>\n",
       "    </tr>\n",
       "    <tr>\n",
       "      <th>TOEFL_Score</th>\n",
       "      <td>0.827200</td>\n",
       "      <td>1.000000</td>\n",
       "      <td>0.649799</td>\n",
       "      <td>0.644410</td>\n",
       "      <td>0.541563</td>\n",
       "      <td>0.810574</td>\n",
       "      <td>0.467012</td>\n",
       "    </tr>\n",
       "    <tr>\n",
       "      <th>University_Rating</th>\n",
       "      <td>0.635376</td>\n",
       "      <td>0.649799</td>\n",
       "      <td>1.000000</td>\n",
       "      <td>0.728024</td>\n",
       "      <td>0.608651</td>\n",
       "      <td>0.705254</td>\n",
       "      <td>0.427047</td>\n",
       "    </tr>\n",
       "    <tr>\n",
       "      <th>SOP</th>\n",
       "      <td>0.613498</td>\n",
       "      <td>0.644410</td>\n",
       "      <td>0.728024</td>\n",
       "      <td>1.000000</td>\n",
       "      <td>0.663707</td>\n",
       "      <td>0.712154</td>\n",
       "      <td>0.408116</td>\n",
       "    </tr>\n",
       "    <tr>\n",
       "      <th>LOR</th>\n",
       "      <td>0.524679</td>\n",
       "      <td>0.541563</td>\n",
       "      <td>0.608651</td>\n",
       "      <td>0.663707</td>\n",
       "      <td>1.000000</td>\n",
       "      <td>0.637469</td>\n",
       "      <td>0.372526</td>\n",
       "    </tr>\n",
       "    <tr>\n",
       "      <th>CGPA</th>\n",
       "      <td>0.825878</td>\n",
       "      <td>0.810574</td>\n",
       "      <td>0.705254</td>\n",
       "      <td>0.712154</td>\n",
       "      <td>0.637469</td>\n",
       "      <td>1.000000</td>\n",
       "      <td>0.501311</td>\n",
       "    </tr>\n",
       "    <tr>\n",
       "      <th>Research</th>\n",
       "      <td>0.563398</td>\n",
       "      <td>0.467012</td>\n",
       "      <td>0.427047</td>\n",
       "      <td>0.408116</td>\n",
       "      <td>0.372526</td>\n",
       "      <td>0.501311</td>\n",
       "      <td>1.000000</td>\n",
       "    </tr>\n",
       "  </tbody>\n",
       "</table>\n",
       "</div>"
      ],
      "text/plain": [
       "                   GRE_Score  TOEFL_Score  University_Rating       SOP  \\\n",
       "GRE_Score           1.000000     0.827200           0.635376  0.613498   \n",
       "TOEFL_Score         0.827200     1.000000           0.649799  0.644410   \n",
       "University_Rating   0.635376     0.649799           1.000000  0.728024   \n",
       "SOP                 0.613498     0.644410           0.728024  1.000000   \n",
       "LOR                 0.524679     0.541563           0.608651  0.663707   \n",
       "CGPA                0.825878     0.810574           0.705254  0.712154   \n",
       "Research            0.563398     0.467012           0.427047  0.408116   \n",
       "\n",
       "                        LOR      CGPA  Research  \n",
       "GRE_Score          0.524679  0.825878  0.563398  \n",
       "TOEFL_Score        0.541563  0.810574  0.467012  \n",
       "University_Rating  0.608651  0.705254  0.427047  \n",
       "SOP                0.663707  0.712154  0.408116  \n",
       "LOR                1.000000  0.637469  0.372526  \n",
       "CGPA               0.637469  1.000000  0.501311  \n",
       "Research           0.372526  0.501311  1.000000  "
      ]
     },
     "execution_count": 12,
     "metadata": {},
     "output_type": "execute_result"
    }
   ],
   "source": [
    "corr = df[['GRE_Score', 'TOEFL_Score', 'University_Rating', 'SOP', 'LOR', 'CGPA','Research']].corr()\n",
    "corr"
   ]
  },
  {
   "cell_type": "code",
   "execution_count": 13,
   "id": "c6262096-8b5d-4dde-9c4c-c81f53830234",
   "metadata": {},
   "outputs": [
    {
     "data": {
      "text/plain": [
       "<Axes: >"
      ]
     },
     "execution_count": 13,
     "metadata": {},
     "output_type": "execute_result"
    },
    {
     "data": {
      "image/png": "[encoded data removed]",
      "text/plain": [
       "<Figure size 640x480 with 2 Axes>"
      ]
     },
     "metadata": {},
     "output_type": "display_data"
    }
   ],
   "source": [
    "sns.heatmap(corr,annot=True)"
   ]
  },
  {
   "cell_type": "code",
   "execution_count": 14,
   "id": "27d02b52-0af6-4794-a1a3-e6196ac76b84",
   "metadata": {},
   "outputs": [],
   "source": [
    "# we have multi colinearity problem"
   ]
  },
  {
   "cell_type": "raw",
   "id": "da7ce6a7-9b76-47b8-92af-f666f509d404",
   "metadata": {},
   "source": [
    "# VIF"
   ]
  },
  {
   "cell_type": "code",
   "execution_count": 15,
   "id": "3115f5bc-f96d-4db3-aca3-f23ecf03e72f",
   "metadata": {},
   "outputs": [
    {
     "data": {
      "text/html": [
       "<div>\n",
       "<style scoped>\n",
       "    .dataframe tbody tr th:only-of-type {\n",
       "        vertical-align: middle;\n",
       "    }\n",
       "\n",
       "    .dataframe tbody tr th {\n",
       "        vertical-align: top;\n",
       "    }\n",
       "\n",
       "    .dataframe thead th {\n",
       "        text-align: right;\n",
       "    }\n",
       "</style>\n",
       "<table border=\"1\" class=\"dataframe\">\n",
       "  <thead>\n",
       "    <tr style=\"text-align: right;\">\n",
       "      <th></th>\n",
       "      <th>variables</th>\n",
       "      <th>vif</th>\n",
       "    </tr>\n",
       "  </thead>\n",
       "  <tbody>\n",
       "    <tr>\n",
       "      <th>0</th>\n",
       "      <td>GRE_Score</td>\n",
       "      <td>4.464249</td>\n",
       "    </tr>\n",
       "    <tr>\n",
       "      <th>1</th>\n",
       "      <td>TOEFL_Score</td>\n",
       "      <td>3.904213</td>\n",
       "    </tr>\n",
       "    <tr>\n",
       "      <th>2</th>\n",
       "      <td>University_Rating</td>\n",
       "      <td>2.621036</td>\n",
       "    </tr>\n",
       "    <tr>\n",
       "      <th>3</th>\n",
       "      <td>SOP</td>\n",
       "      <td>2.835210</td>\n",
       "    </tr>\n",
       "    <tr>\n",
       "      <th>4</th>\n",
       "      <td>LOR</td>\n",
       "      <td>2.033555</td>\n",
       "    </tr>\n",
       "    <tr>\n",
       "      <th>5</th>\n",
       "      <td>CGPA</td>\n",
       "      <td>4.777992</td>\n",
       "    </tr>\n",
       "    <tr>\n",
       "      <th>6</th>\n",
       "      <td>Research</td>\n",
       "      <td>1.494008</td>\n",
       "    </tr>\n",
       "  </tbody>\n",
       "</table>\n",
       "</div>"
      ],
      "text/plain": [
       "           variables       vif\n",
       "0          GRE_Score  4.464249\n",
       "1        TOEFL_Score  3.904213\n",
       "2  University_Rating  2.621036\n",
       "3                SOP  2.835210\n",
       "4                LOR  2.033555\n",
       "5               CGPA  4.777992\n",
       "6           Research  1.494008"
      ]
     },
     "execution_count": 15,
     "metadata": {},
     "output_type": "execute_result"
    }
   ],
   "source": [
    "import statsmodels.formula.api as smf\n",
    "rsq_GRE_Score = smf.ols('GRE_Score~TOEFL_Score+University_Rating+SOP+LOR+CGPA+Research',data=df).fit().rsquared\n",
    "vif_GRE_Score = 1/(1-rsq_GRE_Score)\n",
    "\n",
    "rsq_TOEFL_Score = smf.ols('TOEFL_Score~GRE_Score+University_Rating+SOP+LOR+CGPA+Research',data=df).fit().rsquared\n",
    "vif_TOEFL_Score = 1/(1-rsq_TOEFL_Score)\n",
    "\n",
    "rsq_University_Rating = smf.ols('University_Rating~GRE_Score+TOEFL_Score+SOP+LOR+CGPA+Research',data=df).fit().rsquared\n",
    "vif_University_Rating = 1/(1-rsq_University_Rating)\n",
    "\n",
    "rsq_SOP = smf.ols('SOP~GRE_Score+University_Rating+TOEFL_Score+LOR+CGPA+Research',data=df).fit().rsquared\n",
    "vif_SOP = 1/(1-rsq_SOP)\n",
    "\n",
    "rsq_LOR = smf.ols('LOR~GRE_Score+University_Rating+SOP+TOEFL_Score+CGPA+Research',data=df).fit().rsquared\n",
    "vif_LOR = 1/(1-rsq_LOR)\n",
    "\n",
    "rsq_CGPA = smf.ols('CGPA~GRE_Score+University_Rating+SOP+LOR+TOEFL_Score+Research',data=df).fit().rsquared\n",
    "vif_CGPA = 1/(1-rsq_CGPA)\n",
    "\n",
    "rsq_Research = smf.ols('Research~GRE_Score+University_Rating+SOP+LOR+CGPA+TOEFL_Score',data=df).fit().rsquared\n",
    "vif_Research = 1/(1-rsq_Research)\n",
    "\n",
    "d1={'variables':['GRE_Score', 'TOEFL_Score', 'University_Rating', 'SOP', 'LOR', 'CGPA','Research'],'vif':[vif_GRE_Score,vif_TOEFL_Score,vif_University_Rating,vif_SOP,vif_LOR,vif_CGPA,vif_Research]}\n",
    "VIF = pd.DataFrame(d1)\n",
    "VIF"
   ]
  },
  {
   "cell_type": "code",
   "execution_count": 16,
   "id": "fda244f4-8a94-486d-96a8-cd02ab9a1f02",
   "metadata": {},
   "outputs": [
    {
     "data": {
      "text/html": [
       "<div>\n",
       "<style scoped>\n",
       "    .dataframe tbody tr th:only-of-type {\n",
       "        vertical-align: middle;\n",
       "    }\n",
       "\n",
       "    .dataframe tbody tr th {\n",
       "        vertical-align: top;\n",
       "    }\n",
       "\n",
       "    .dataframe thead th {\n",
       "        text-align: right;\n",
       "    }\n",
       "</style>\n",
       "<table border=\"1\" class=\"dataframe\">\n",
       "  <thead>\n",
       "    <tr style=\"text-align: right;\">\n",
       "      <th></th>\n",
       "      <th>GRE_Score</th>\n",
       "      <th>TOEFL_Score</th>\n",
       "      <th>University_Rating</th>\n",
       "      <th>SOP</th>\n",
       "      <th>LOR</th>\n",
       "      <th>Research</th>\n",
       "      <th>Chance_of_Admit</th>\n",
       "    </tr>\n",
       "  </thead>\n",
       "  <tbody>\n",
       "    <tr>\n",
       "      <th>0</th>\n",
       "      <td>337</td>\n",
       "      <td>118</td>\n",
       "      <td>4</td>\n",
       "      <td>4.5</td>\n",
       "      <td>4.5</td>\n",
       "      <td>1</td>\n",
       "      <td>0.92</td>\n",
       "    </tr>\n",
       "    <tr>\n",
       "      <th>1</th>\n",
       "      <td>324</td>\n",
       "      <td>107</td>\n",
       "      <td>4</td>\n",
       "      <td>4.0</td>\n",
       "      <td>4.5</td>\n",
       "      <td>1</td>\n",
       "      <td>0.76</td>\n",
       "    </tr>\n",
       "    <tr>\n",
       "      <th>2</th>\n",
       "      <td>316</td>\n",
       "      <td>104</td>\n",
       "      <td>3</td>\n",
       "      <td>3.0</td>\n",
       "      <td>3.5</td>\n",
       "      <td>1</td>\n",
       "      <td>0.72</td>\n",
       "    </tr>\n",
       "    <tr>\n",
       "      <th>3</th>\n",
       "      <td>322</td>\n",
       "      <td>110</td>\n",
       "      <td>3</td>\n",
       "      <td>3.5</td>\n",
       "      <td>2.5</td>\n",
       "      <td>1</td>\n",
       "      <td>0.80</td>\n",
       "    </tr>\n",
       "    <tr>\n",
       "      <th>4</th>\n",
       "      <td>314</td>\n",
       "      <td>103</td>\n",
       "      <td>2</td>\n",
       "      <td>2.0</td>\n",
       "      <td>3.0</td>\n",
       "      <td>0</td>\n",
       "      <td>0.65</td>\n",
       "    </tr>\n",
       "    <tr>\n",
       "      <th>...</th>\n",
       "      <td>...</td>\n",
       "      <td>...</td>\n",
       "      <td>...</td>\n",
       "      <td>...</td>\n",
       "      <td>...</td>\n",
       "      <td>...</td>\n",
       "      <td>...</td>\n",
       "    </tr>\n",
       "    <tr>\n",
       "      <th>495</th>\n",
       "      <td>332</td>\n",
       "      <td>108</td>\n",
       "      <td>5</td>\n",
       "      <td>4.5</td>\n",
       "      <td>4.0</td>\n",
       "      <td>1</td>\n",
       "      <td>0.87</td>\n",
       "    </tr>\n",
       "    <tr>\n",
       "      <th>496</th>\n",
       "      <td>337</td>\n",
       "      <td>117</td>\n",
       "      <td>5</td>\n",
       "      <td>5.0</td>\n",
       "      <td>5.0</td>\n",
       "      <td>1</td>\n",
       "      <td>0.96</td>\n",
       "    </tr>\n",
       "    <tr>\n",
       "      <th>497</th>\n",
       "      <td>330</td>\n",
       "      <td>120</td>\n",
       "      <td>5</td>\n",
       "      <td>4.5</td>\n",
       "      <td>5.0</td>\n",
       "      <td>1</td>\n",
       "      <td>0.93</td>\n",
       "    </tr>\n",
       "    <tr>\n",
       "      <th>498</th>\n",
       "      <td>312</td>\n",
       "      <td>103</td>\n",
       "      <td>4</td>\n",
       "      <td>4.0</td>\n",
       "      <td>5.0</td>\n",
       "      <td>0</td>\n",
       "      <td>0.73</td>\n",
       "    </tr>\n",
       "    <tr>\n",
       "      <th>499</th>\n",
       "      <td>327</td>\n",
       "      <td>113</td>\n",
       "      <td>4</td>\n",
       "      <td>4.5</td>\n",
       "      <td>4.5</td>\n",
       "      <td>0</td>\n",
       "      <td>0.84</td>\n",
       "    </tr>\n",
       "  </tbody>\n",
       "</table>\n",
       "<p>500 rows × 7 columns</p>\n",
       "</div>"
      ],
      "text/plain": [
       "     GRE_Score  TOEFL_Score  University_Rating  SOP  LOR  Research  \\\n",
       "0          337          118                  4  4.5  4.5         1   \n",
       "1          324          107                  4  4.0  4.5         1   \n",
       "2          316          104                  3  3.0  3.5         1   \n",
       "3          322          110                  3  3.5  2.5         1   \n",
       "4          314          103                  2  2.0  3.0         0   \n",
       "..         ...          ...                ...  ...  ...       ...   \n",
       "495        332          108                  5  4.5  4.0         1   \n",
       "496        337          117                  5  5.0  5.0         1   \n",
       "497        330          120                  5  4.5  5.0         1   \n",
       "498        312          103                  4  4.0  5.0         0   \n",
       "499        327          113                  4  4.5  4.5         0   \n",
       "\n",
       "     Chance_of_Admit  \n",
       "0               0.92  \n",
       "1               0.76  \n",
       "2               0.72  \n",
       "3               0.80  \n",
       "4               0.65  \n",
       "..               ...  \n",
       "495             0.87  \n",
       "496             0.96  \n",
       "497             0.93  \n",
       "498             0.73  \n",
       "499             0.84  \n",
       "\n",
       "[500 rows x 7 columns]"
      ]
     },
     "execution_count": 16,
     "metadata": {},
     "output_type": "execute_result"
    }
   ],
   "source": [
    "df = df.drop(columns='CGPA')\n",
    "df"
   ]
  },
  {
   "cell_type": "code",
   "execution_count": 17,
   "id": "b3e5b897-c345-4732-bd84-d088a0377696",
   "metadata": {},
   "outputs": [
    {
     "data": {
      "text/html": [
       "<div>\n",
       "<style scoped>\n",
       "    .dataframe tbody tr th:only-of-type {\n",
       "        vertical-align: middle;\n",
       "    }\n",
       "\n",
       "    .dataframe tbody tr th {\n",
       "        vertical-align: top;\n",
       "    }\n",
       "\n",
       "    .dataframe thead th {\n",
       "        text-align: right;\n",
       "    }\n",
       "</style>\n",
       "<table border=\"1\" class=\"dataframe\">\n",
       "  <thead>\n",
       "    <tr style=\"text-align: right;\">\n",
       "      <th></th>\n",
       "      <th>GRE_Score</th>\n",
       "      <th>TOEFL_Score</th>\n",
       "      <th>University_Rating</th>\n",
       "      <th>SOP</th>\n",
       "      <th>LOR</th>\n",
       "      <th>Research</th>\n",
       "    </tr>\n",
       "  </thead>\n",
       "  <tbody>\n",
       "    <tr>\n",
       "      <th>GRE_Score</th>\n",
       "      <td>1.000000</td>\n",
       "      <td>0.827200</td>\n",
       "      <td>0.635376</td>\n",
       "      <td>0.613498</td>\n",
       "      <td>0.524679</td>\n",
       "      <td>0.563398</td>\n",
       "    </tr>\n",
       "    <tr>\n",
       "      <th>TOEFL_Score</th>\n",
       "      <td>0.827200</td>\n",
       "      <td>1.000000</td>\n",
       "      <td>0.649799</td>\n",
       "      <td>0.644410</td>\n",
       "      <td>0.541563</td>\n",
       "      <td>0.467012</td>\n",
       "    </tr>\n",
       "    <tr>\n",
       "      <th>University_Rating</th>\n",
       "      <td>0.635376</td>\n",
       "      <td>0.649799</td>\n",
       "      <td>1.000000</td>\n",
       "      <td>0.728024</td>\n",
       "      <td>0.608651</td>\n",
       "      <td>0.427047</td>\n",
       "    </tr>\n",
       "    <tr>\n",
       "      <th>SOP</th>\n",
       "      <td>0.613498</td>\n",
       "      <td>0.644410</td>\n",
       "      <td>0.728024</td>\n",
       "      <td>1.000000</td>\n",
       "      <td>0.663707</td>\n",
       "      <td>0.408116</td>\n",
       "    </tr>\n",
       "    <tr>\n",
       "      <th>LOR</th>\n",
       "      <td>0.524679</td>\n",
       "      <td>0.541563</td>\n",
       "      <td>0.608651</td>\n",
       "      <td>0.663707</td>\n",
       "      <td>1.000000</td>\n",
       "      <td>0.372526</td>\n",
       "    </tr>\n",
       "    <tr>\n",
       "      <th>Research</th>\n",
       "      <td>0.563398</td>\n",
       "      <td>0.467012</td>\n",
       "      <td>0.427047</td>\n",
       "      <td>0.408116</td>\n",
       "      <td>0.372526</td>\n",
       "      <td>1.000000</td>\n",
       "    </tr>\n",
       "  </tbody>\n",
       "</table>\n",
       "</div>"
      ],
      "text/plain": [
       "                   GRE_Score  TOEFL_Score  University_Rating       SOP  \\\n",
       "GRE_Score           1.000000     0.827200           0.635376  0.613498   \n",
       "TOEFL_Score         0.827200     1.000000           0.649799  0.644410   \n",
       "University_Rating   0.635376     0.649799           1.000000  0.728024   \n",
       "SOP                 0.613498     0.644410           0.728024  1.000000   \n",
       "LOR                 0.524679     0.541563           0.608651  0.663707   \n",
       "Research            0.563398     0.467012           0.427047  0.408116   \n",
       "\n",
       "                        LOR  Research  \n",
       "GRE_Score          0.524679  0.563398  \n",
       "TOEFL_Score        0.541563  0.467012  \n",
       "University_Rating  0.608651  0.427047  \n",
       "SOP                0.663707  0.408116  \n",
       "LOR                1.000000  0.372526  \n",
       "Research           0.372526  1.000000  "
      ]
     },
     "execution_count": 17,
     "metadata": {},
     "output_type": "execute_result"
    }
   ],
   "source": [
    "df[['GRE_Score', 'TOEFL_Score', 'University_Rating', 'SOP', 'LOR','Research']].corr()"
   ]
  },
  {
   "cell_type": "code",
   "execution_count": 18,
   "id": "6b50d527-66ba-4b82-b63f-389326a1251d",
   "metadata": {},
   "outputs": [
    {
     "data": {
      "text/html": [
       "<div>\n",
       "<style scoped>\n",
       "    .dataframe tbody tr th:only-of-type {\n",
       "        vertical-align: middle;\n",
       "    }\n",
       "\n",
       "    .dataframe tbody tr th {\n",
       "        vertical-align: top;\n",
       "    }\n",
       "\n",
       "    .dataframe thead th {\n",
       "        text-align: right;\n",
       "    }\n",
       "</style>\n",
       "<table border=\"1\" class=\"dataframe\">\n",
       "  <thead>\n",
       "    <tr style=\"text-align: right;\">\n",
       "      <th></th>\n",
       "      <th>variables</th>\n",
       "      <th>vif</th>\n",
       "    </tr>\n",
       "  </thead>\n",
       "  <tbody>\n",
       "    <tr>\n",
       "      <th>0</th>\n",
       "      <td>GRE_Score</td>\n",
       "      <td>3.763604</td>\n",
       "    </tr>\n",
       "    <tr>\n",
       "      <th>1</th>\n",
       "      <td>TOEFL_Score</td>\n",
       "      <td>3.594274</td>\n",
       "    </tr>\n",
       "    <tr>\n",
       "      <th>2</th>\n",
       "      <td>University_Rating</td>\n",
       "      <td>2.567679</td>\n",
       "    </tr>\n",
       "    <tr>\n",
       "      <th>3</th>\n",
       "      <td>SOP</td>\n",
       "      <td>2.741195</td>\n",
       "    </tr>\n",
       "    <tr>\n",
       "      <th>4</th>\n",
       "      <td>LOR</td>\n",
       "      <td>1.944971</td>\n",
       "    </tr>\n",
       "    <tr>\n",
       "      <th>5</th>\n",
       "      <td>Research</td>\n",
       "      <td>1.493134</td>\n",
       "    </tr>\n",
       "  </tbody>\n",
       "</table>\n",
       "</div>"
      ],
      "text/plain": [
       "           variables       vif\n",
       "0          GRE_Score  3.763604\n",
       "1        TOEFL_Score  3.594274\n",
       "2  University_Rating  2.567679\n",
       "3                SOP  2.741195\n",
       "4                LOR  1.944971\n",
       "5           Research  1.493134"
      ]
     },
     "execution_count": 18,
     "metadata": {},
     "output_type": "execute_result"
    }
   ],
   "source": [
    "rsq_GRE_Score = smf.ols('GRE_Score~TOEFL_Score+University_Rating+SOP+LOR+Research',data=df).fit().rsquared\n",
    "vif_GRE_Score = 1/(1-rsq_GRE_Score)\n",
    "\n",
    "rsq_TOEFL_Score = smf.ols('TOEFL_Score~GRE_Score+University_Rating+SOP+LOR+Research',data=df).fit().rsquared\n",
    "vif_TOEFL_Score = 1/(1-rsq_TOEFL_Score)\n",
    "\n",
    "rsq_University_Rating = smf.ols('University_Rating~GRE_Score+TOEFL_Score+SOP+LOR+Research',data=df).fit().rsquared\n",
    "vif_University_Rating = 1/(1-rsq_University_Rating)\n",
    "\n",
    "rsq_SOP = smf.ols('SOP~GRE_Score+University_Rating+TOEFL_Score+LOR+Research',data=df).fit().rsquared\n",
    "vif_SOP = 1/(1-rsq_SOP)\n",
    "\n",
    "rsq_LOR = smf.ols('LOR~GRE_Score+University_Rating+SOP+TOEFL_Score+Research',data=df).fit().rsquared\n",
    "vif_LOR = 1/(1-rsq_LOR)\n",
    "\n",
    "rsq_Research = smf.ols('Research~GRE_Score+University_Rating+SOP+LOR+TOEFL_Score',data=df).fit().rsquared\n",
    "vif_Research = 1/(1-rsq_Research)\n",
    "\n",
    "d2={'variables':['GRE_Score', 'TOEFL_Score', 'University_Rating', 'SOP', 'LOR','Research'],'vif':[vif_GRE_Score,vif_TOEFL_Score,vif_University_Rating,vif_SOP,vif_LOR,vif_Research]}\n",
    "VIF_2 = pd.DataFrame(d2)\n",
    "VIF_2"
   ]
  },
  {
   "cell_type": "code",
   "execution_count": 19,
   "id": "eeaa5701-ac27-4bd4-8860-0fb0bac7d2d3",
   "metadata": {},
   "outputs": [],
   "source": [
    "X = df[['GRE_Score', 'TOEFL_Score', 'University_Rating', 'SOP', 'LOR','Research']] \n",
    "Y = df['Chance_of_Admit']"
   ]
  },
  {
   "cell_type": "raw",
   "id": "396e6f63-b56b-405e-8160-5a8e3e965eba",
   "metadata": {},
   "source": [
    "# train_test_split"
   ]
  },
  {
   "cell_type": "code",
   "execution_count": 20,
   "id": "e7fa5670-23b6-427c-9356-6265eef40928",
   "metadata": {},
   "outputs": [],
   "source": [
    "from sklearn.model_selection import train_test_split\n",
    "X_train,X_test,Y_train,Y_test = train_test_split(X,Y,train_size=0.8,random_state=10)"
   ]
  },
  {
   "cell_type": "code",
   "execution_count": 21,
   "id": "ba1f0b6e-b490-4b7a-a660-1881a701d334",
   "metadata": {},
   "outputs": [
    {
     "data": {
      "text/html": [
       "<div>\n",
       "<style scoped>\n",
       "    .dataframe tbody tr th:only-of-type {\n",
       "        vertical-align: middle;\n",
       "    }\n",
       "\n",
       "    .dataframe tbody tr th {\n",
       "        vertical-align: top;\n",
       "    }\n",
       "\n",
       "    .dataframe thead th {\n",
       "        text-align: right;\n",
       "    }\n",
       "</style>\n",
       "<table border=\"1\" class=\"dataframe\">\n",
       "  <thead>\n",
       "    <tr style=\"text-align: right;\">\n",
       "      <th></th>\n",
       "      <th>GRE_Score</th>\n",
       "      <th>TOEFL_Score</th>\n",
       "      <th>University_Rating</th>\n",
       "      <th>SOP</th>\n",
       "      <th>LOR</th>\n",
       "      <th>Research</th>\n",
       "    </tr>\n",
       "  </thead>\n",
       "  <tbody>\n",
       "    <tr>\n",
       "      <th>305</th>\n",
       "      <td>321</td>\n",
       "      <td>109</td>\n",
       "      <td>3</td>\n",
       "      <td>3.5</td>\n",
       "      <td>3.5</td>\n",
       "      <td>1</td>\n",
       "    </tr>\n",
       "    <tr>\n",
       "      <th>107</th>\n",
       "      <td>338</td>\n",
       "      <td>117</td>\n",
       "      <td>4</td>\n",
       "      <td>3.5</td>\n",
       "      <td>4.5</td>\n",
       "      <td>1</td>\n",
       "    </tr>\n",
       "    <tr>\n",
       "      <th>350</th>\n",
       "      <td>318</td>\n",
       "      <td>107</td>\n",
       "      <td>3</td>\n",
       "      <td>3.0</td>\n",
       "      <td>3.5</td>\n",
       "      <td>1</td>\n",
       "    </tr>\n",
       "    <tr>\n",
       "      <th>334</th>\n",
       "      <td>312</td>\n",
       "      <td>107</td>\n",
       "      <td>4</td>\n",
       "      <td>4.5</td>\n",
       "      <td>4.0</td>\n",
       "      <td>1</td>\n",
       "    </tr>\n",
       "    <tr>\n",
       "      <th>142</th>\n",
       "      <td>331</td>\n",
       "      <td>115</td>\n",
       "      <td>5</td>\n",
       "      <td>4.0</td>\n",
       "      <td>3.5</td>\n",
       "      <td>1</td>\n",
       "    </tr>\n",
       "    <tr>\n",
       "      <th>...</th>\n",
       "      <td>...</td>\n",
       "      <td>...</td>\n",
       "      <td>...</td>\n",
       "      <td>...</td>\n",
       "      <td>...</td>\n",
       "      <td>...</td>\n",
       "    </tr>\n",
       "    <tr>\n",
       "      <th>320</th>\n",
       "      <td>317</td>\n",
       "      <td>106</td>\n",
       "      <td>3</td>\n",
       "      <td>4.0</td>\n",
       "      <td>3.5</td>\n",
       "      <td>1</td>\n",
       "    </tr>\n",
       "    <tr>\n",
       "      <th>15</th>\n",
       "      <td>314</td>\n",
       "      <td>105</td>\n",
       "      <td>3</td>\n",
       "      <td>3.5</td>\n",
       "      <td>2.5</td>\n",
       "      <td>0</td>\n",
       "    </tr>\n",
       "    <tr>\n",
       "      <th>484</th>\n",
       "      <td>317</td>\n",
       "      <td>106</td>\n",
       "      <td>3</td>\n",
       "      <td>3.5</td>\n",
       "      <td>3.0</td>\n",
       "      <td>1</td>\n",
       "    </tr>\n",
       "    <tr>\n",
       "      <th>125</th>\n",
       "      <td>300</td>\n",
       "      <td>100</td>\n",
       "      <td>3</td>\n",
       "      <td>2.0</td>\n",
       "      <td>3.0</td>\n",
       "      <td>1</td>\n",
       "    </tr>\n",
       "    <tr>\n",
       "      <th>265</th>\n",
       "      <td>313</td>\n",
       "      <td>102</td>\n",
       "      <td>3</td>\n",
       "      <td>2.5</td>\n",
       "      <td>2.5</td>\n",
       "      <td>0</td>\n",
       "    </tr>\n",
       "  </tbody>\n",
       "</table>\n",
       "<p>400 rows × 6 columns</p>\n",
       "</div>"
      ],
      "text/plain": [
       "     GRE_Score  TOEFL_Score  University_Rating  SOP  LOR  Research\n",
       "305        321          109                  3  3.5  3.5         1\n",
       "107        338          117                  4  3.5  4.5         1\n",
       "350        318          107                  3  3.0  3.5         1\n",
       "334        312          107                  4  4.5  4.0         1\n",
       "142        331          115                  5  4.0  3.5         1\n",
       "..         ...          ...                ...  ...  ...       ...\n",
       "320        317          106                  3  4.0  3.5         1\n",
       "15         314          105                  3  3.5  2.5         0\n",
       "484        317          106                  3  3.5  3.0         1\n",
       "125        300          100                  3  2.0  3.0         1\n",
       "265        313          102                  3  2.5  2.5         0\n",
       "\n",
       "[400 rows x 6 columns]"
      ]
     },
     "execution_count": 21,
     "metadata": {},
     "output_type": "execute_result"
    }
   ],
   "source": [
    "X_train"
   ]
  },
  {
   "cell_type": "code",
   "execution_count": 22,
   "id": "e4f69702-421d-476d-b856-273b52527cb4",
   "metadata": {},
   "outputs": [
    {
     "data": {
      "text/plain": [
       "305    0.74\n",
       "107    0.91\n",
       "350    0.74\n",
       "334    0.73\n",
       "142    0.92\n",
       "       ... \n",
       "320    0.75\n",
       "15     0.54\n",
       "484    0.73\n",
       "125    0.64\n",
       "265    0.71\n",
       "Name: Chance_of_Admit, Length: 400, dtype: float64"
      ]
     },
     "execution_count": 22,
     "metadata": {},
     "output_type": "execute_result"
    }
   ],
   "source": [
    "Y_train"
   ]
  },
  {
   "cell_type": "markdown",
   "id": "48d6fbae-e932-4888-84d9-6827fd8cec52",
   "metadata": {},
   "source": [
    "# MODELING"
   ]
  },
  {
   "cell_type": "markdown",
   "id": "5a8593c1-cba1-4e0d-b39b-d5e32a69e5b3",
   "metadata": {},
   "source": [
    "# 1. LINEAR REGRESSION"
   ]
  },
  {
   "cell_type": "code",
   "execution_count": 23,
   "id": "014498d9-1d64-404c-9a2b-8e4abd30508c",
   "metadata": {},
   "outputs": [
    {
     "name": "stdout",
     "output_type": "stream",
     "text": [
      "coefficient of LinearRegression_model :  [0.00463852 0.00497961 0.01184293 0.01573491 0.02615324 0.02678064]\n",
      "intercept of LinearRegression_model :  -1.47565436469722\n"
     ]
    }
   ],
   "source": [
    "from sklearn.linear_model import LinearRegression\n",
    "LinReg_model = LinearRegression()\n",
    "LinReg_model.fit(X_train,Y_train)\n",
    "\n",
    "print('coefficient of LinearRegression_model : ',LinReg_model.coef_)\n",
    "print('intercept of LinearRegression_model : ',LinReg_model.intercept_)"
   ]
  },
  {
   "cell_type": "code",
   "execution_count": 24,
   "id": "23c78fb1-a936-492e-aadb-996d0dc1ebc8",
   "metadata": {},
   "outputs": [
    {
     "name": "stdout",
     "output_type": "stream",
     "text": [
      "Train RMSE :  0.06811053521115454\n",
      "Train R2 :  0.7734226183109321\n"
     ]
    }
   ],
   "source": [
    "# prediction on train data(X_train)\n",
    "ypred_train = LinReg_model.predict(X_train)\n",
    "\n",
    "# evaluation for train data\n",
    "# in terms of RMSE\n",
    "from sklearn.metrics import mean_squared_error\n",
    "RMSE_train = np.sqrt(mean_squared_error(Y_train,ypred_train))\n",
    "print('Train RMSE : ',RMSE_train)\n",
    "\n",
    "# in terms of R2\n",
    "from sklearn.metrics import r2_score\n",
    "R2_train = r2_score(Y_train,ypred_train)\n",
    "print('Train R2 : ',R2_train)"
   ]
  },
  {
   "cell_type": "code",
   "execution_count": 25,
   "id": "bfe73643-a0be-4ffd-ab83-a37769759ace",
   "metadata": {},
   "outputs": [
    {
     "name": "stdout",
     "output_type": "stream",
     "text": [
      "CV score :  0.7591468902149019\n"
     ]
    }
   ],
   "source": [
    "from sklearn.model_selection import cross_val_score\n",
    "CV = cross_val_score(LinReg_model,X_train,Y_train,cv=5,scoring='r2').mean()\n",
    "print('CV score : ',CV)           # cv_score always apply on train data."
   ]
  },
  {
   "cell_type": "code",
   "execution_count": 26,
   "id": "06b9c27b-d58e-4200-bbf4-71c1e5f3b763",
   "metadata": {},
   "outputs": [
    {
     "name": "stdout",
     "output_type": "stream",
     "text": [
      "Test RMSE :  0.06757963366342522\n",
      "Test R2 :  0.7357513435995303\n"
     ]
    }
   ],
   "source": [
    "# prediction on test data(X_test)\n",
    "ypred_test = LinReg_model.predict(X_test)\n",
    "\n",
    "# evaluation for test data\n",
    "# in terms of RMSE\n",
    "from sklearn.metrics import mean_squared_error\n",
    "RMSE_test = np.sqrt(mean_squared_error(Y_test,ypred_test))\n",
    "print('Test RMSE : ',RMSE_test)\n",
    "\n",
    "# in terms of R2\n",
    "from sklearn.metrics import r2_score\n",
    "R2_test = r2_score(Y_test,ypred_test)\n",
    "print('Test R2 : ',R2_test)"
   ]
  },
  {
   "cell_type": "code",
   "execution_count": 27,
   "id": "920ee09c-0e89-445f-b4a0-7dfda014b3f3",
   "metadata": {},
   "outputs": [
    {
     "data": {
      "text/plain": [
       "array([0.52049153])"
      ]
     },
     "execution_count": 27,
     "metadata": {},
     "output_type": "execute_result"
    }
   ],
   "source": [
    "# future data prediction.\n",
    "\n",
    "LinReg_model.predict([[250,120,2,4.5,4.5,1]])"
   ]
  },
  {
   "cell_type": "raw",
   "id": "2867d435-4c52-4c3c-8f57-ef73f3a9278d",
   "metadata": {},
   "source": [
    "# check assumption"
   ]
  },
  {
   "cell_type": "code",
   "execution_count": 28,
   "id": "fc5bf76d-213e-41ef-8c5d-0d0182fa7283",
   "metadata": {},
   "outputs": [],
   "source": [
    "train_error = Y_train-ypred_train"
   ]
  },
  {
   "cell_type": "code",
   "execution_count": 29,
   "id": "1e9d690b-e1f2-4502-9235-dc4858fde641",
   "metadata": {},
   "outputs": [
    {
     "data": {
      "image/png": "[encoded data removed]",
      "text/plain": [
       "<Figure size 640x480 with 1 Axes>"
      ]
     },
     "metadata": {},
     "output_type": "display_data"
    }
   ],
   "source": [
    "#1 linearity of error\n",
    "\n",
    "plt.scatter(Y_train,train_error)\n",
    "plt.show()"
   ]
  },
  {
   "cell_type": "code",
   "execution_count": 30,
   "id": "cfcb7bbe-dc5c-4540-8f57-c47ddc86fb7f",
   "metadata": {},
   "outputs": [
    {
     "data": {
      "text/html": [
       "<table class=\"simpletable\">\n",
       "<caption>OLS Regression Results</caption>\n",
       "<tr>\n",
       "  <th>Dep. Variable:</th>            <td>Y</td>        <th>  R-squared:         </th> <td>   0.768</td> \n",
       "</tr>\n",
       "<tr>\n",
       "  <th>Model:</th>                   <td>OLS</td>       <th>  Adj. R-squared:    </th> <td>   0.765</td> \n",
       "</tr>\n",
       "<tr>\n",
       "  <th>Method:</th>             <td>Least Squares</td>  <th>  F-statistic:       </th> <td>   272.1</td> \n",
       "</tr>\n",
       "<tr>\n",
       "  <th>Date:</th>             <td>Sat, 13 Jul 2024</td> <th>  Prob (F-statistic):</th> <td>6.84e-153</td>\n",
       "</tr>\n",
       "<tr>\n",
       "  <th>Time:</th>                 <td>12:31:08</td>     <th>  Log-Likelihood:    </th> <td>  635.33</td> \n",
       "</tr>\n",
       "<tr>\n",
       "  <th>No. Observations:</th>      <td>   500</td>      <th>  AIC:               </th> <td>  -1257.</td> \n",
       "</tr>\n",
       "<tr>\n",
       "  <th>Df Residuals:</th>          <td>   493</td>      <th>  BIC:               </th> <td>  -1227.</td> \n",
       "</tr>\n",
       "<tr>\n",
       "  <th>Df Model:</th>              <td>     6</td>      <th>                     </th>     <td> </td>    \n",
       "</tr>\n",
       "<tr>\n",
       "  <th>Covariance Type:</th>      <td>nonrobust</td>    <th>                     </th>     <td> </td>    \n",
       "</tr>\n",
       "</table>\n",
       "<table class=\"simpletable\">\n",
       "<tr>\n",
       "      <td></td>         <th>coef</th>     <th>std err</th>      <th>t</th>      <th>P>|t|</th>  <th>[0.025</th>    <th>0.975]</th>  \n",
       "</tr>\n",
       "<tr>\n",
       "  <th>Intercept</th> <td>   -1.4426</td> <td>    0.118</td> <td>  -12.238</td> <td> 0.000</td> <td>   -1.674</td> <td>   -1.211</td>\n",
       "</tr>\n",
       "<tr>\n",
       "  <th>X[0]</th>      <td>    0.0043</td> <td>    0.001</td> <td>    8.151</td> <td> 0.000</td> <td>    0.003</td> <td>    0.005</td>\n",
       "</tr>\n",
       "<tr>\n",
       "  <th>X[1]</th>      <td>    0.0058</td> <td>    0.001</td> <td>    6.053</td> <td> 0.000</td> <td>    0.004</td> <td>    0.008</td>\n",
       "</tr>\n",
       "<tr>\n",
       "  <th>X[2]</th>      <td>    0.0126</td> <td>    0.004</td> <td>    2.927</td> <td> 0.004</td> <td>    0.004</td> <td>    0.021</td>\n",
       "</tr>\n",
       "<tr>\n",
       "  <th>X[3]</th>      <td>    0.0117</td> <td>    0.005</td> <td>    2.292</td> <td> 0.022</td> <td>    0.002</td> <td>    0.022</td>\n",
       "</tr>\n",
       "<tr>\n",
       "  <th>X[4]</th>      <td>    0.0274</td> <td>    0.005</td> <td>    5.938</td> <td> 0.000</td> <td>    0.018</td> <td>    0.036</td>\n",
       "</tr>\n",
       "<tr>\n",
       "  <th>X[5]</th>      <td>    0.0263</td> <td>    0.008</td> <td>    3.487</td> <td> 0.001</td> <td>    0.011</td> <td>    0.041</td>\n",
       "</tr>\n",
       "</table>\n",
       "<table class=\"simpletable\">\n",
       "<tr>\n",
       "  <th>Omnibus:</th>       <td>86.496</td> <th>  Durbin-Watson:     </th> <td>   0.820</td>\n",
       "</tr>\n",
       "<tr>\n",
       "  <th>Prob(Omnibus):</th> <td> 0.000</td> <th>  Jarque-Bera (JB):  </th> <td> 155.545</td>\n",
       "</tr>\n",
       "<tr>\n",
       "  <th>Skew:</th>          <td>-1.006</td> <th>  Prob(JB):          </th> <td>1.67e-34</td>\n",
       "</tr>\n",
       "<tr>\n",
       "  <th>Kurtosis:</th>      <td> 4.848</td> <th>  Cond. No.          </th> <td>1.29e+04</td>\n",
       "</tr>\n",
       "</table><br/><br/>Notes:<br/>[1] Standard Errors assume that the covariance matrix of the errors is correctly specified.<br/>[2] The condition number is large, 1.29e+04. This might indicate that there are<br/>strong multicollinearity or other numerical problems."
      ],
      "text/latex": [
       "\\begin{center}\n",
       "\\begin{tabular}{lclc}\n",
       "\\toprule\n",
       "\\textbf{Dep. Variable:}    &        Y         & \\textbf{  R-squared:         } &     0.768   \\\\\n",
       "\\textbf{Model:}            &       OLS        & \\textbf{  Adj. R-squared:    } &     0.765   \\\\\n",
       "\\textbf{Method:}           &  Least Squares   & \\textbf{  F-statistic:       } &     272.1   \\\\\n",
       "\\textbf{Date:}             & Sat, 13 Jul 2024 & \\textbf{  Prob (F-statistic):} & 6.84e-153   \\\\\n",
       "\\textbf{Time:}             &     12:31:08     & \\textbf{  Log-Likelihood:    } &    635.33   \\\\\n",
       "\\textbf{No. Observations:} &         500      & \\textbf{  AIC:               } &    -1257.   \\\\\n",
       "\\textbf{Df Residuals:}     &         493      & \\textbf{  BIC:               } &    -1227.   \\\\\n",
       "\\textbf{Df Model:}         &           6      & \\textbf{                     } &             \\\\\n",
       "\\textbf{Covariance Type:}  &    nonrobust     & \\textbf{                     } &             \\\\\n",
       "\\bottomrule\n",
       "\\end{tabular}\n",
       "\\begin{tabular}{lcccccc}\n",
       "                   & \\textbf{coef} & \\textbf{std err} & \\textbf{t} & \\textbf{P$> |$t$|$} & \\textbf{[0.025} & \\textbf{0.975]}  \\\\\n",
       "\\midrule\n",
       "\\textbf{Intercept} &      -1.4426  &        0.118     &   -12.238  &         0.000        &       -1.674    &       -1.211     \\\\\n",
       "\\textbf{X[0]}      &       0.0043  &        0.001     &     8.151  &         0.000        &        0.003    &        0.005     \\\\\n",
       "\\textbf{X[1]}      &       0.0058  &        0.001     &     6.053  &         0.000        &        0.004    &        0.008     \\\\\n",
       "\\textbf{X[2]}      &       0.0126  &        0.004     &     2.927  &         0.004        &        0.004    &        0.021     \\\\\n",
       "\\textbf{X[3]}      &       0.0117  &        0.005     &     2.292  &         0.022        &        0.002    &        0.022     \\\\\n",
       "\\textbf{X[4]}      &       0.0274  &        0.005     &     5.938  &         0.000        &        0.018    &        0.036     \\\\\n",
       "\\textbf{X[5]}      &       0.0263  &        0.008     &     3.487  &         0.001        &        0.011    &        0.041     \\\\\n",
       "\\bottomrule\n",
       "\\end{tabular}\n",
       "\\begin{tabular}{lclc}\n",
       "\\textbf{Omnibus:}       & 86.496 & \\textbf{  Durbin-Watson:     } &    0.820  \\\\\n",
       "\\textbf{Prob(Omnibus):} &  0.000 & \\textbf{  Jarque-Bera (JB):  } &  155.545  \\\\\n",
       "\\textbf{Skew:}          & -1.006 & \\textbf{  Prob(JB):          } & 1.67e-34  \\\\\n",
       "\\textbf{Kurtosis:}      &  4.848 & \\textbf{  Cond. No.          } & 1.29e+04  \\\\\n",
       "\\bottomrule\n",
       "\\end{tabular}\n",
       "%\\caption{OLS Regression Results}\n",
       "\\end{center}\n",
       "\n",
       "Notes: \\newline\n",
       " [1] Standard Errors assume that the covariance matrix of the errors is correctly specified. \\newline\n",
       " [2] The condition number is large, 1.29e+04. This might indicate that there are \\newline\n",
       " strong multicollinearity or other numerical problems."
      ],
      "text/plain": [
       "<class 'statsmodels.iolib.summary.Summary'>\n",
       "\"\"\"\n",
       "                            OLS Regression Results                            \n",
       "==============================================================================\n",
       "Dep. Variable:                      Y   R-squared:                       0.768\n",
       "Model:                            OLS   Adj. R-squared:                  0.765\n",
       "Method:                 Least Squares   F-statistic:                     272.1\n",
       "Date:                Sat, 13 Jul 2024   Prob (F-statistic):          6.84e-153\n",
       "Time:                        12:31:08   Log-Likelihood:                 635.33\n",
       "No. Observations:                 500   AIC:                            -1257.\n",
       "Df Residuals:                     493   BIC:                            -1227.\n",
       "Df Model:                           6                                         \n",
       "Covariance Type:            nonrobust                                         \n",
       "==============================================================================\n",
       "                 coef    std err          t      P>|t|      [0.025      0.975]\n",
       "------------------------------------------------------------------------------\n",
       "Intercept     -1.4426      0.118    -12.238      0.000      -1.674      -1.211\n",
       "X[0]           0.0043      0.001      8.151      0.000       0.003       0.005\n",
       "X[1]           0.0058      0.001      6.053      0.000       0.004       0.008\n",
       "X[2]           0.0126      0.004      2.927      0.004       0.004       0.021\n",
       "X[3]           0.0117      0.005      2.292      0.022       0.002       0.022\n",
       "X[4]           0.0274      0.005      5.938      0.000       0.018       0.036\n",
       "X[5]           0.0263      0.008      3.487      0.001       0.011       0.041\n",
       "==============================================================================\n",
       "Omnibus:                       86.496   Durbin-Watson:                   0.820\n",
       "Prob(Omnibus):                  0.000   Jarque-Bera (JB):              155.545\n",
       "Skew:                          -1.006   Prob(JB):                     1.67e-34\n",
       "Kurtosis:                       4.848   Cond. No.                     1.29e+04\n",
       "==============================================================================\n",
       "\n",
       "Notes:\n",
       "[1] Standard Errors assume that the covariance matrix of the errors is correctly specified.\n",
       "[2] The condition number is large, 1.29e+04. This might indicate that there are\n",
       "strong multicollinearity or other numerical problems.\n",
       "\"\"\""
      ]
     },
     "execution_count": 30,
     "metadata": {},
     "output_type": "execute_result"
    }
   ],
   "source": [
    "#2 Independent of error/variable significant \n",
    "\n",
    "import statsmodels.formula.api as smf\n",
    "m_smm = smf.ols('Y~X',data=df).fit()\n",
    "m_smm.summary()"
   ]
  },
  {
   "cell_type": "code",
   "execution_count": 31,
   "id": "66a4a392-6785-43a7-a8e7-335e8f0c0e94",
   "metadata": {},
   "outputs": [
    {
     "data": {
      "image/png": "[encoded data removed]",
      "text/plain": [
       "<Figure size 640x480 with 7 Axes>"
      ]
     },
     "execution_count": 31,
     "metadata": {},
     "output_type": "execute_result"
    },
    {
     "data": {
      "image/png": "[encoded data removed]",
      "text/plain": [
       "<Figure size 640x480 with 7 Axes>"
      ]
     },
     "metadata": {},
     "output_type": "display_data"
    }
   ],
   "source": [
    "# av plot\n",
    "\n",
    "import statsmodels.api as sm\n",
    "sm.graphics.plot_partregress_grid(m_smm)"
   ]
  },
  {
   "cell_type": "code",
   "execution_count": 32,
   "id": "1f9219d4-77c6-42d7-bb6d-78e00b7d2d44",
   "metadata": {},
   "outputs": [],
   "source": [
    "# from above two cells we conclude that all independent columns used in this model is related to dependent or output variable acc this model."
   ]
  },
  {
   "cell_type": "code",
   "execution_count": 33,
   "id": "6bf58f21-11bc-4ad7-9884-a6158af7127c",
   "metadata": {},
   "outputs": [
    {
     "data": {
      "text/plain": [
       "-0.9410773349007601"
      ]
     },
     "execution_count": 33,
     "metadata": {},
     "output_type": "execute_result"
    }
   ],
   "source": [
    "#3 normality error\n",
    "\n",
    "train_error.skew()"
   ]
  },
  {
   "cell_type": "code",
   "execution_count": 34,
   "id": "4083c893-7180-4e54-9731-e5076044d9a4",
   "metadata": {},
   "outputs": [
    {
     "data": {
      "image/png": "[encoded data removed]",
      "text/plain": [
       "<Figure size 640x480 with 1 Axes>"
      ]
     },
     "metadata": {},
     "output_type": "display_data"
    }
   ],
   "source": [
    "#4 equal varience error\n",
    "\n",
    "plt.scatter(ypred_train,train_error)\n",
    "plt.axhline(y=0,color='red')\n",
    "plt.show()"
   ]
  },
  {
   "cell_type": "code",
   "execution_count": 35,
   "id": "5564baa9-cad3-470c-bf52-a7f53d78e80f",
   "metadata": {},
   "outputs": [],
   "source": [
    "# This is not a good model, because don't satisfy 4th assumption."
   ]
  },
  {
   "cell_type": "markdown",
   "id": "f74d7e6e-7dc5-4bf6-a314-2c7bae8e59c9",
   "metadata": {},
   "source": [
    "# 2. NON-LINEAR / POLYNOMIAL REGRESSION"
   ]
  },
  {
   "cell_type": "code",
   "execution_count": 36,
   "id": "5412a75c-01d1-407f-87c1-e8b742d4c7cf",
   "metadata": {},
   "outputs": [
    {
     "data": {
      "text/plain": [
       "{'degree': 1}"
      ]
     },
     "execution_count": 36,
     "metadata": {},
     "output_type": "execute_result"
    }
   ],
   "source": [
    "from sklearn.model_selection import GridSearchCV\n",
    "\n",
    "# Model\n",
    "from sklearn.preprocessing import PolynomialFeatures\n",
    "estimator = PolynomialFeatures()\n",
    "\n",
    "# Parameter & Values\n",
    "param_grid = {'degree':list(range(1,10))}\n",
    "\n",
    "# Identifying the best value of the parameter(alpha) within the given values for the given data.\n",
    "# Function store in a variable(model_hyprtu)\n",
    "model_hyprtu = GridSearchCV(estimator,param_grid,cv=5,scoring='r2')\n",
    "\n",
    "# Calculate alpha_value acc to highest cv for the given data.\n",
    "model_hyprtu.fit(X_train,Y_train)\n",
    "\n",
    "# printing that alpha_value\n",
    "model_hyprtu.best_params_\n"
   ]
  },
  {
   "cell_type": "raw",
   "id": "a4d7f067-c1bd-441c-b6c4-a6a6c0a29b9c",
   "metadata": {},
   "source": [
    "# degree 1 in polynomial_regression is equal to linear_regression"
   ]
  },
  {
   "cell_type": "code",
   "execution_count": 37,
   "id": "c4d49daf-692e-43c6-a2b2-d8168061c82c",
   "metadata": {},
   "outputs": [
    {
     "data": {
      "text/html": [
       "<div>\n",
       "<style scoped>\n",
       "    .dataframe tbody tr th:only-of-type {\n",
       "        vertical-align: middle;\n",
       "    }\n",
       "\n",
       "    .dataframe tbody tr th {\n",
       "        vertical-align: top;\n",
       "    }\n",
       "\n",
       "    .dataframe thead th {\n",
       "        text-align: right;\n",
       "    }\n",
       "</style>\n",
       "<table border=\"1\" class=\"dataframe\">\n",
       "  <thead>\n",
       "    <tr style=\"text-align: right;\">\n",
       "      <th></th>\n",
       "      <th>0</th>\n",
       "      <th>1</th>\n",
       "      <th>2</th>\n",
       "      <th>3</th>\n",
       "      <th>4</th>\n",
       "      <th>5</th>\n",
       "    </tr>\n",
       "  </thead>\n",
       "  <tbody>\n",
       "    <tr>\n",
       "      <th>0</th>\n",
       "      <td>321.0</td>\n",
       "      <td>109.0</td>\n",
       "      <td>3.0</td>\n",
       "      <td>3.5</td>\n",
       "      <td>3.5</td>\n",
       "      <td>1.0</td>\n",
       "    </tr>\n",
       "    <tr>\n",
       "      <th>1</th>\n",
       "      <td>338.0</td>\n",
       "      <td>117.0</td>\n",
       "      <td>4.0</td>\n",
       "      <td>3.5</td>\n",
       "      <td>4.5</td>\n",
       "      <td>1.0</td>\n",
       "    </tr>\n",
       "    <tr>\n",
       "      <th>2</th>\n",
       "      <td>318.0</td>\n",
       "      <td>107.0</td>\n",
       "      <td>3.0</td>\n",
       "      <td>3.0</td>\n",
       "      <td>3.5</td>\n",
       "      <td>1.0</td>\n",
       "    </tr>\n",
       "    <tr>\n",
       "      <th>3</th>\n",
       "      <td>312.0</td>\n",
       "      <td>107.0</td>\n",
       "      <td>4.0</td>\n",
       "      <td>4.5</td>\n",
       "      <td>4.0</td>\n",
       "      <td>1.0</td>\n",
       "    </tr>\n",
       "    <tr>\n",
       "      <th>4</th>\n",
       "      <td>331.0</td>\n",
       "      <td>115.0</td>\n",
       "      <td>5.0</td>\n",
       "      <td>4.0</td>\n",
       "      <td>3.5</td>\n",
       "      <td>1.0</td>\n",
       "    </tr>\n",
       "    <tr>\n",
       "      <th>...</th>\n",
       "      <td>...</td>\n",
       "      <td>...</td>\n",
       "      <td>...</td>\n",
       "      <td>...</td>\n",
       "      <td>...</td>\n",
       "      <td>...</td>\n",
       "    </tr>\n",
       "    <tr>\n",
       "      <th>395</th>\n",
       "      <td>317.0</td>\n",
       "      <td>106.0</td>\n",
       "      <td>3.0</td>\n",
       "      <td>4.0</td>\n",
       "      <td>3.5</td>\n",
       "      <td>1.0</td>\n",
       "    </tr>\n",
       "    <tr>\n",
       "      <th>396</th>\n",
       "      <td>314.0</td>\n",
       "      <td>105.0</td>\n",
       "      <td>3.0</td>\n",
       "      <td>3.5</td>\n",
       "      <td>2.5</td>\n",
       "      <td>0.0</td>\n",
       "    </tr>\n",
       "    <tr>\n",
       "      <th>397</th>\n",
       "      <td>317.0</td>\n",
       "      <td>106.0</td>\n",
       "      <td>3.0</td>\n",
       "      <td>3.5</td>\n",
       "      <td>3.0</td>\n",
       "      <td>1.0</td>\n",
       "    </tr>\n",
       "    <tr>\n",
       "      <th>398</th>\n",
       "      <td>300.0</td>\n",
       "      <td>100.0</td>\n",
       "      <td>3.0</td>\n",
       "      <td>2.0</td>\n",
       "      <td>3.0</td>\n",
       "      <td>1.0</td>\n",
       "    </tr>\n",
       "    <tr>\n",
       "      <th>399</th>\n",
       "      <td>313.0</td>\n",
       "      <td>102.0</td>\n",
       "      <td>3.0</td>\n",
       "      <td>2.5</td>\n",
       "      <td>2.5</td>\n",
       "      <td>0.0</td>\n",
       "    </tr>\n",
       "  </tbody>\n",
       "</table>\n",
       "<p>400 rows × 6 columns</p>\n",
       "</div>"
      ],
      "text/plain": [
       "         0      1    2    3    4    5\n",
       "0    321.0  109.0  3.0  3.5  3.5  1.0\n",
       "1    338.0  117.0  4.0  3.5  4.5  1.0\n",
       "2    318.0  107.0  3.0  3.0  3.5  1.0\n",
       "3    312.0  107.0  4.0  4.5  4.0  1.0\n",
       "4    331.0  115.0  5.0  4.0  3.5  1.0\n",
       "..     ...    ...  ...  ...  ...  ...\n",
       "395  317.0  106.0  3.0  4.0  3.5  1.0\n",
       "396  314.0  105.0  3.0  3.5  2.5  0.0\n",
       "397  317.0  106.0  3.0  3.5  3.0  1.0\n",
       "398  300.0  100.0  3.0  2.0  3.0  1.0\n",
       "399  313.0  102.0  3.0  2.5  2.5  0.0\n",
       "\n",
       "[400 rows x 6 columns]"
      ]
     },
     "execution_count": 37,
     "metadata": {},
     "output_type": "execute_result"
    }
   ],
   "source": [
    "from sklearn.preprocessing import PolynomialFeatures\n",
    "polynomial_converter = PolynomialFeatures(degree = 1,include_bias= False)\n",
    "X_train_poly = pd.DataFrame(polynomial_converter.fit_transform(X_train))\n",
    "X_train_poly                            "
   ]
  },
  {
   "cell_type": "code",
   "execution_count": 38,
   "id": "b850e8ac-a0b2-4934-8735-6d3fff05075d",
   "metadata": {},
   "outputs": [
    {
     "name": "stdout",
     "output_type": "stream",
     "text": [
      "coefficient :  [0.00463852 0.00497961 0.01184293 0.01573491 0.02615324 0.02678064]\n",
      "intercept :  -1.47565436469722\n"
     ]
    }
   ],
   "source": [
    "from sklearn.linear_model import LinearRegression\n",
    "polymodel = LinearRegression()\n",
    "polymodel.fit(X_train_poly,Y_train)\n",
    "\n",
    "print('coefficient : ',polymodel.coef_)\n",
    "print('intercept : ',polymodel.intercept_)"
   ]
  },
  {
   "cell_type": "code",
   "execution_count": 39,
   "id": "0437cc9f-223b-43f2-8e46-03a35243f2cb",
   "metadata": {},
   "outputs": [
    {
     "name": "stdout",
     "output_type": "stream",
     "text": [
      "Train_RMSE :  0.06811053521115452\n",
      "Train_R2 :  0.7734226183109321\n"
     ]
    },
    {
     "data": {
      "text/plain": [
       "0.7734226183109321"
      ]
     },
     "execution_count": 39,
     "metadata": {},
     "output_type": "execute_result"
    }
   ],
   "source": [
    "ypred_train = polymodel.predict(X_train_poly)\n",
    "\n",
    "from sklearn.metrics import mean_squared_error\n",
    "Train_RMSE = np.sqrt(mean_squared_error(Y_train,ypred_train))\n",
    "print('Train_RMSE : ',Train_RMSE)\n",
    "\n",
    "from sklearn.metrics import r2_score\n",
    "R2_train = r2_score(Y_train,ypred_train)\n",
    "print('Train_R2 : ',R2_train)\n",
    "# or                                    two ways to calculate r2\n",
    "polymodel.score(X_train_poly,Y_train)"
   ]
  },
  {
   "cell_type": "code",
   "execution_count": 40,
   "id": "67ff3e0f-4ce4-4188-952a-12469f96e5c5",
   "metadata": {},
   "outputs": [
    {
     "name": "stdout",
     "output_type": "stream",
     "text": [
      "CV score :  0.7591468902149019\n"
     ]
    }
   ],
   "source": [
    "from sklearn.model_selection import cross_val_score\n",
    "CV = cross_val_score(polymodel,X_train_poly,Y_train,cv=5,scoring='r2').mean()\n",
    "print('CV score : ',CV)"
   ]
  },
  {
   "cell_type": "code",
   "execution_count": 41,
   "id": "d7646227-bd73-41f6-97b5-a5f28b025290",
   "metadata": {},
   "outputs": [
    {
     "data": {
      "text/html": [
       "<div>\n",
       "<style scoped>\n",
       "    .dataframe tbody tr th:only-of-type {\n",
       "        vertical-align: middle;\n",
       "    }\n",
       "\n",
       "    .dataframe tbody tr th {\n",
       "        vertical-align: top;\n",
       "    }\n",
       "\n",
       "    .dataframe thead th {\n",
       "        text-align: right;\n",
       "    }\n",
       "</style>\n",
       "<table border=\"1\" class=\"dataframe\">\n",
       "  <thead>\n",
       "    <tr style=\"text-align: right;\">\n",
       "      <th></th>\n",
       "      <th>0</th>\n",
       "      <th>1</th>\n",
       "      <th>2</th>\n",
       "      <th>3</th>\n",
       "      <th>4</th>\n",
       "      <th>5</th>\n",
       "    </tr>\n",
       "  </thead>\n",
       "  <tbody>\n",
       "    <tr>\n",
       "      <th>0</th>\n",
       "      <td>332.0</td>\n",
       "      <td>116.0</td>\n",
       "      <td>5.0</td>\n",
       "      <td>5.0</td>\n",
       "      <td>5.0</td>\n",
       "      <td>1.0</td>\n",
       "    </tr>\n",
       "    <tr>\n",
       "      <th>1</th>\n",
       "      <td>325.0</td>\n",
       "      <td>114.0</td>\n",
       "      <td>5.0</td>\n",
       "      <td>4.0</td>\n",
       "      <td>5.0</td>\n",
       "      <td>1.0</td>\n",
       "    </tr>\n",
       "    <tr>\n",
       "      <th>2</th>\n",
       "      <td>326.0</td>\n",
       "      <td>108.0</td>\n",
       "      <td>3.0</td>\n",
       "      <td>3.0</td>\n",
       "      <td>3.5</td>\n",
       "      <td>0.0</td>\n",
       "    </tr>\n",
       "    <tr>\n",
       "      <th>3</th>\n",
       "      <td>324.0</td>\n",
       "      <td>111.0</td>\n",
       "      <td>5.0</td>\n",
       "      <td>4.5</td>\n",
       "      <td>4.0</td>\n",
       "      <td>1.0</td>\n",
       "    </tr>\n",
       "    <tr>\n",
       "      <th>4</th>\n",
       "      <td>303.0</td>\n",
       "      <td>105.0</td>\n",
       "      <td>5.0</td>\n",
       "      <td>5.0</td>\n",
       "      <td>4.5</td>\n",
       "      <td>0.0</td>\n",
       "    </tr>\n",
       "    <tr>\n",
       "      <th>...</th>\n",
       "      <td>...</td>\n",
       "      <td>...</td>\n",
       "      <td>...</td>\n",
       "      <td>...</td>\n",
       "      <td>...</td>\n",
       "      <td>...</td>\n",
       "    </tr>\n",
       "    <tr>\n",
       "      <th>95</th>\n",
       "      <td>313.0</td>\n",
       "      <td>98.0</td>\n",
       "      <td>3.0</td>\n",
       "      <td>2.5</td>\n",
       "      <td>4.5</td>\n",
       "      <td>1.0</td>\n",
       "    </tr>\n",
       "    <tr>\n",
       "      <th>96</th>\n",
       "      <td>325.0</td>\n",
       "      <td>110.0</td>\n",
       "      <td>2.0</td>\n",
       "      <td>3.0</td>\n",
       "      <td>2.5</td>\n",
       "      <td>1.0</td>\n",
       "    </tr>\n",
       "    <tr>\n",
       "      <th>97</th>\n",
       "      <td>331.0</td>\n",
       "      <td>112.0</td>\n",
       "      <td>5.0</td>\n",
       "      <td>4.0</td>\n",
       "      <td>5.0</td>\n",
       "      <td>1.0</td>\n",
       "    </tr>\n",
       "    <tr>\n",
       "      <th>98</th>\n",
       "      <td>296.0</td>\n",
       "      <td>95.0</td>\n",
       "      <td>2.0</td>\n",
       "      <td>3.0</td>\n",
       "      <td>2.0</td>\n",
       "      <td>1.0</td>\n",
       "    </tr>\n",
       "    <tr>\n",
       "      <th>99</th>\n",
       "      <td>308.0</td>\n",
       "      <td>109.0</td>\n",
       "      <td>2.0</td>\n",
       "      <td>3.0</td>\n",
       "      <td>4.0</td>\n",
       "      <td>0.0</td>\n",
       "    </tr>\n",
       "  </tbody>\n",
       "</table>\n",
       "<p>100 rows × 6 columns</p>\n",
       "</div>"
      ],
      "text/plain": [
       "        0      1    2    3    4    5\n",
       "0   332.0  116.0  5.0  5.0  5.0  1.0\n",
       "1   325.0  114.0  5.0  4.0  5.0  1.0\n",
       "2   326.0  108.0  3.0  3.0  3.5  0.0\n",
       "3   324.0  111.0  5.0  4.5  4.0  1.0\n",
       "4   303.0  105.0  5.0  5.0  4.5  0.0\n",
       "..    ...    ...  ...  ...  ...  ...\n",
       "95  313.0   98.0  3.0  2.5  4.5  1.0\n",
       "96  325.0  110.0  2.0  3.0  2.5  1.0\n",
       "97  331.0  112.0  5.0  4.0  5.0  1.0\n",
       "98  296.0   95.0  2.0  3.0  2.0  1.0\n",
       "99  308.0  109.0  2.0  3.0  4.0  0.0\n",
       "\n",
       "[100 rows x 6 columns]"
      ]
     },
     "execution_count": 41,
     "metadata": {},
     "output_type": "execute_result"
    }
   ],
   "source": [
    "X_test_poly = pd.DataFrame(polynomial_converter.transform(X_test))\n",
    "X_test_poly       "
   ]
  },
  {
   "cell_type": "code",
   "execution_count": 42,
   "id": "796414ad-3644-4fe4-b4d0-e6751d25bf5d",
   "metadata": {},
   "outputs": [
    {
     "name": "stdout",
     "output_type": "stream",
     "text": [
      "Test_RMSE :  0.06757963366342522\n",
      "Test_R2 :  0.7357513435995304\n"
     ]
    },
    {
     "data": {
      "text/plain": [
       "0.7357513435995304"
      ]
     },
     "execution_count": 42,
     "metadata": {},
     "output_type": "execute_result"
    }
   ],
   "source": [
    "ypred_test = polymodel.predict(X_test_poly)\n",
    "\n",
    "\n",
    "Test_RMSE = np.sqrt(mean_squared_error(Y_test,ypred_test))\n",
    "print('Test_RMSE : ',Test_RMSE)\n",
    "\n",
    "\n",
    "R2_test = r2_score(Y_test,ypred_test)\n",
    "print('Test_R2 : ',R2_test)\n",
    "# or                                    two ways to calculate r2\n",
    "polymodel.score(X_test_poly,Y_test)"
   ]
  },
  {
   "cell_type": "code",
   "execution_count": 43,
   "id": "bec09ded-bf1e-460c-9efe-62d89e15da30",
   "metadata": {},
   "outputs": [
    {
     "data": {
      "text/plain": [
       "array([0.52049153])"
      ]
     },
     "execution_count": 43,
     "metadata": {},
     "output_type": "execute_result"
    }
   ],
   "source": [
    "# Future Data prediction using Non _linear model\n",
    "\n",
    "X_future_poly = pd.DataFrame(polynomial_converter.transform([[250,120,2,4.5,4.5,1]]))\n",
    "\n",
    "polymodel.predict(X_future_poly)"
   ]
  },
  {
   "cell_type": "markdown",
   "id": "90125b06-23d0-42a9-bf8a-760dcece4846",
   "metadata": {},
   "source": [
    "# 3. RIDGE REGRESSION"
   ]
  },
  {
   "cell_type": "code",
   "execution_count": 44,
   "id": "0941e92f-a919-4eaf-ac66-da08bf6d77cf",
   "metadata": {},
   "outputs": [
    {
     "data": {
      "text/plain": [
       "{'alpha': 29}"
      ]
     },
     "execution_count": 44,
     "metadata": {},
     "output_type": "execute_result"
    }
   ],
   "source": [
    "# appling hypr_tuning for Lasso Regression to selection of alpha . To get best alpha_value(value for any parameter) which give highest CV_score for this given DataSet\n",
    "\n",
    "from sklearn.model_selection import GridSearchCV\n",
    "\n",
    "# Model\n",
    "from sklearn.linear_model import Ridge\n",
    "estimator = Ridge()\n",
    "\n",
    "# Parameter & Values\n",
    "param_grid = {'alpha':list(range(1,200))}\n",
    "\n",
    "# Identifying the best value of the parameter(alpha) within the given values for the given data.\n",
    "# Function store in a variable(model_hyprtu)\n",
    "model_hyprtu = GridSearchCV(estimator,param_grid,cv=5,scoring='r2')\n",
    "\n",
    "# Calculate alpha_value acc to highest cv for the given data.\n",
    "model_hyprtu.fit(X_train,Y_train)\n",
    "\n",
    "# printing that alpha_value\n",
    "model_hyprtu.best_params_\n"
   ]
  },
  {
   "cell_type": "code",
   "execution_count": 45,
   "id": "17bcd2ab-c46c-4bc7-8efc-2f6b5452cda0",
   "metadata": {},
   "outputs": [
    {
     "name": "stdout",
     "output_type": "stream",
     "text": [
      "coefficient :  [0.00488292 0.00512805 0.01183495 0.01528826 0.02390011 0.01903635]\n",
      "intercept :  -1.5551919599673032\n"
     ]
    }
   ],
   "source": [
    "from sklearn.linear_model import Ridge\n",
    "Ridge_model = Ridge(alpha=29)          \n",
    "Ridge_model.fit(X_train,Y_train)\n",
    "\n",
    "print('coefficient : ',Ridge_model.coef_)\n",
    "print('intercept : ',Ridge_model.intercept_)"
   ]
  },
  {
   "cell_type": "code",
   "execution_count": 46,
   "id": "cc048d31-3041-4ca5-a0ec-e56d9a2384db",
   "metadata": {},
   "outputs": [
    {
     "name": "stdout",
     "output_type": "stream",
     "text": [
      "train_RMSE :  0.06822021335015614\n",
      "train_R2 :  0.7726923173703006\n"
     ]
    },
    {
     "data": {
      "text/plain": [
       "0.7726923173703006"
      ]
     },
     "execution_count": 46,
     "metadata": {},
     "output_type": "execute_result"
    }
   ],
   "source": [
    "ypred_train = Ridge_model.predict(X_train)\n",
    "\n",
    "from sklearn.metrics import mean_squared_error\n",
    "Tra_RMSE = np.sqrt(mean_squared_error(Y_train,ypred_train))\n",
    "print('train_RMSE : ',Tra_RMSE)\n",
    "\n",
    "from sklearn.metrics import r2_score\n",
    "R2_train = r2_score(Y_train,ypred_train)\n",
    "print('train_R2 : ',R2_train)\n",
    "# or                                    two ways to calculate r2\n",
    "Ridge_model.score(X_train,Y_train)"
   ]
  },
  {
   "cell_type": "code",
   "execution_count": 47,
   "id": "9ff1a95e-0164-4120-aea8-d31e9cb0ccfc",
   "metadata": {},
   "outputs": [
    {
     "name": "stdout",
     "output_type": "stream",
     "text": [
      "CV score :  0.760394234754785\n"
     ]
    }
   ],
   "source": [
    "from sklearn.model_selection import cross_val_score\n",
    "CV = cross_val_score(Ridge_model,X_train,Y_train,cv=5,scoring='r2').mean()\n",
    "print('CV score : ',CV)"
   ]
  },
  {
   "cell_type": "code",
   "execution_count": 48,
   "id": "05db2e99-1f0c-4252-acf9-3c268d7682b8",
   "metadata": {},
   "outputs": [
    {
     "name": "stdout",
     "output_type": "stream",
     "text": [
      "test_RMSE :  0.06752849014989125\n",
      "test_R2 :  0.7361511531324176\n"
     ]
    },
    {
     "data": {
      "text/plain": [
       "0.7361511531324176"
      ]
     },
     "execution_count": 48,
     "metadata": {},
     "output_type": "execute_result"
    }
   ],
   "source": [
    "ypred_test = Ridge_model.predict(X_test)\n",
    "\n",
    "\n",
    "Tes_RMSE = np.sqrt(mean_squared_error(Y_test,ypred_test))\n",
    "print('test_RMSE : ',Tes_RMSE)\n",
    "\n",
    "\n",
    "R2_test = r2_score(Y_test,ypred_test)\n",
    "print('test_R2 : ',R2_test)\n",
    "# or                                    two ways to calculate r2\n",
    "Ridge_model.score(X_test,Y_test)"
   ]
  },
  {
   "cell_type": "code",
   "execution_count": 49,
   "id": "4bac5475-097c-4b1f-ad6a-7ec9484defb5",
   "metadata": {},
   "outputs": [
    {
     "data": {
      "text/plain": [
       "array([0.49995773])"
      ]
     },
     "execution_count": 49,
     "metadata": {},
     "output_type": "execute_result"
    }
   ],
   "source": [
    "Ridge_model.predict([[250,120,2,4.5,4.5,1]])"
   ]
  },
  {
   "cell_type": "markdown",
   "id": "25a0a2b9-a1be-46e1-a293-4cfc6dd49ba6",
   "metadata": {},
   "source": [
    "# 4. ELASTICNET REGRESSION"
   ]
  },
  {
   "cell_type": "code",
   "execution_count": 66,
   "id": "d5084695-7571-4788-ac08-524cc7359039",
   "metadata": {},
   "outputs": [
    {
     "data": {
      "text/plain": [
       "{'alpha': 1, 'l1_ratio': 0.1}"
      ]
     },
     "execution_count": 66,
     "metadata": {},
     "output_type": "execute_result"
    }
   ],
   "source": [
    "from sklearn.model_selection import GridSearchCV\n",
    "\n",
    "# Model\n",
    "from sklearn.linear_model import ElasticNet\n",
    "estimator = ElasticNet()\n",
    "\n",
    "# Parameter & Values\n",
    "param_grid = {'alpha':list(range(1,200)),'l1_ratio':[0.1,0.2,0.3,0.4,0.5,0.6,0.75,0.85,0.95,1]}\n",
    "\n",
    "\n",
    "# Identifying the best value of the parameter(alpha,l1_ratio) within the given values for the given data.\n",
    "# Function store in a variable(model_hyprtu)\n",
    "model_hyprtu = GridSearchCV(estimator,param_grid,cv=5,scoring='r2')\n",
    "\n",
    "# Calculate alpha_value & li_ratio acc to highest cv for the given data.\n",
    "model_hyprtu.fit(X_train,Y_train)\n",
    "\n",
    "# printing that alpha_value & li_ratio\n",
    "model_hyprtu.best_params_\n"
   ]
  },
  {
   "cell_type": "code",
   "execution_count": 67,
   "id": "1fc826e5-c393-401a-babb-0c1ae025fb2c",
   "metadata": {},
   "outputs": [
    {
     "name": "stdout",
     "output_type": "stream",
     "text": [
      "coefficient :  [0.00789488 0.0034133  0.         0.         0.         0.        ]\n",
      "intercept :  -2.1437368532821135\n"
     ]
    }
   ],
   "source": [
    "from sklearn.linear_model import ElasticNet\n",
    "ElasticNet_model = ElasticNet(alpha= 1, l1_ratio= 0.1)          \n",
    "ElasticNet_model.fit(X_train,Y_train)\n",
    "\n",
    "print('coefficient : ',ElasticNet_model.coef_)\n",
    "print('intercept : ',ElasticNet_model.intercept_)"
   ]
  },
  {
   "cell_type": "code",
   "execution_count": 68,
   "id": "99299ea7-5aff-43da-b234-35fc4333932a",
   "metadata": {},
   "outputs": [
    {
     "name": "stdout",
     "output_type": "stream",
     "text": [
      "train_RMSE :  0.07943561389427278\n",
      "train_R2 :  0.691810044389005\n"
     ]
    },
    {
     "data": {
      "text/plain": [
       "0.691810044389005"
      ]
     },
     "execution_count": 68,
     "metadata": {},
     "output_type": "execute_result"
    }
   ],
   "source": [
    "ypred_train = ElasticNet_model.predict(X_train)\n",
    "\n",
    "from sklearn.metrics import mean_squared_error\n",
    "Tra_RMSE = np.sqrt(mean_squared_error(Y_train,ypred_train))\n",
    "print('train_RMSE : ',Tra_RMSE)\n",
    "\n",
    "from sklearn.metrics import r2_score\n",
    "R2_train = r2_score(Y_train,ypred_train)\n",
    "print('train_R2 : ',R2_train)\n",
    "# or                                    two ways to calculate r2\n",
    "ElasticNet_model.score(X_train,Y_train)"
   ]
  },
  {
   "cell_type": "code",
   "execution_count": 69,
   "id": "a88dd7c6-413e-4b5d-b9e5-cbbaf2bf8484",
   "metadata": {},
   "outputs": [
    {
     "name": "stdout",
     "output_type": "stream",
     "text": [
      "CV score :  0.6860288849974954\n"
     ]
    }
   ],
   "source": [
    "from sklearn.model_selection import cross_val_score\n",
    "CV = cross_val_score(ElasticNet_model,X_train,Y_train,cv=5,scoring='r2').mean()\n",
    "print('CV score : ',CV)"
   ]
  },
  {
   "cell_type": "code",
   "execution_count": 70,
   "id": "ba2fb34a-d59c-454b-b3e5-3fe66bfa7393",
   "metadata": {},
   "outputs": [
    {
     "name": "stdout",
     "output_type": "stream",
     "text": [
      "test_RMSE :  0.07956277733241629\n",
      "test_R2 :  0.6337303014786415\n"
     ]
    },
    {
     "data": {
      "text/plain": [
       "0.6337303014786415"
      ]
     },
     "execution_count": 70,
     "metadata": {},
     "output_type": "execute_result"
    }
   ],
   "source": [
    "ypred_test = ElasticNet_model.predict(X_test)\n",
    "\n",
    "\n",
    "Tes_RMSE = np.sqrt(mean_squared_error(Y_test,ypred_test))\n",
    "print('test_RMSE : ',Tes_RMSE)\n",
    "\n",
    "\n",
    "R2_test = r2_score(Y_test,ypred_test)\n",
    "print('test_R2 : ',R2_test)\n",
    "# or                                    two ways to calculate r2\n",
    "ElasticNet_model.score(X_test,Y_test)"
   ]
  },
  {
   "cell_type": "code",
   "execution_count": 71,
   "id": "173f3bc7-c418-4c86-a388-f5718239a491",
   "metadata": {},
   "outputs": [
    {
     "data": {
      "text/plain": [
       "array([0.23958065])"
      ]
     },
     "execution_count": 71,
     "metadata": {},
     "output_type": "execute_result"
    }
   ],
   "source": [
    " ElasticNet_model.predict([[250,120,2,4.5,4.5,1]])"
   ]
  },
  {
   "cell_type": "markdown",
   "id": "02da9b68-8f9c-4de5-ba4f-fd73c6250fe6",
   "metadata": {},
   "source": [
    "# 5. LASSO REGRESSION"
   ]
  },
  {
   "cell_type": "code",
   "execution_count": 56,
   "id": "d773ef15-dd6e-4819-a79a-6a658fd91933",
   "metadata": {},
   "outputs": [
    {
     "data": {
      "text/plain": [
       "{'alpha': 1}"
      ]
     },
     "execution_count": 56,
     "metadata": {},
     "output_type": "execute_result"
    }
   ],
   "source": [
    "# appling hypr_tuning for Lasso Regression to selection of alpha . To get best alpha_value(value for any parameter) which give highest CV_score for this given DataSet\n",
    "\n",
    "from sklearn.model_selection import GridSearchCV\n",
    "\n",
    "# Model\n",
    "from sklearn.linear_model import Lasso\n",
    "estimator = Lasso()\n",
    "\n",
    "# Parameter & Values\n",
    "param_grid = {'alpha':list(range(1,200))}\n",
    "\n",
    "# Identifying the best value of the parameter(alpha) within the given values for the given data.\n",
    "# Function store in a variable(model_hyprtu)\n",
    "model_hyprtu = GridSearchCV(estimator,param_grid,cv=5,scoring='r2')\n",
    "\n",
    "# Calculate alpha_value acc to highest cv for the given data.\n",
    "model_hyprtu.fit(X_train,Y_train)\n",
    "\n",
    "# printing that alpha_value\n",
    "model_hyprtu.best_params_\n"
   ]
  },
  {
   "cell_type": "code",
   "execution_count": 57,
   "id": "165cfa6f-fe3a-41e6-995d-fcb455d3f30b",
   "metadata": {},
   "outputs": [
    {
     "name": "stdout",
     "output_type": "stream",
     "text": [
      "coefficient :  [0.00262238 0.         0.         0.         0.         0.        ]\n",
      "intercept :  -0.11083053120262787\n"
     ]
    }
   ],
   "source": [
    "from sklearn.linear_model import Lasso\n",
    "Lasso_model = Lasso(alpha=1)          \n",
    "Lasso_model.fit(X_train,Y_train)\n",
    "\n",
    "print('coefficient : ',Lasso_model.coef_)\n",
    "print('intercept : ',Lasso_model.intercept_)"
   ]
  },
  {
   "cell_type": "code",
   "execution_count": 58,
   "id": "8e0db86d-3198-4b90-84b0-b304390850e9",
   "metadata": {},
   "outputs": [
    {
     "data": {
      "text/html": [
       "<div>\n",
       "<style scoped>\n",
       "    .dataframe tbody tr th:only-of-type {\n",
       "        vertical-align: middle;\n",
       "    }\n",
       "\n",
       "    .dataframe tbody tr th {\n",
       "        vertical-align: top;\n",
       "    }\n",
       "\n",
       "    .dataframe thead th {\n",
       "        text-align: right;\n",
       "    }\n",
       "</style>\n",
       "<table border=\"1\" class=\"dataframe\">\n",
       "  <thead>\n",
       "    <tr style=\"text-align: right;\">\n",
       "      <th></th>\n",
       "      <th>GRE_Score</th>\n",
       "      <th>Chance_of_Admit</th>\n",
       "    </tr>\n",
       "  </thead>\n",
       "  <tbody>\n",
       "    <tr>\n",
       "      <th>0</th>\n",
       "      <td>337</td>\n",
       "      <td>0.92</td>\n",
       "    </tr>\n",
       "    <tr>\n",
       "      <th>1</th>\n",
       "      <td>324</td>\n",
       "      <td>0.76</td>\n",
       "    </tr>\n",
       "    <tr>\n",
       "      <th>2</th>\n",
       "      <td>316</td>\n",
       "      <td>0.72</td>\n",
       "    </tr>\n",
       "    <tr>\n",
       "      <th>3</th>\n",
       "      <td>322</td>\n",
       "      <td>0.80</td>\n",
       "    </tr>\n",
       "    <tr>\n",
       "      <th>4</th>\n",
       "      <td>314</td>\n",
       "      <td>0.65</td>\n",
       "    </tr>\n",
       "    <tr>\n",
       "      <th>...</th>\n",
       "      <td>...</td>\n",
       "      <td>...</td>\n",
       "    </tr>\n",
       "    <tr>\n",
       "      <th>495</th>\n",
       "      <td>332</td>\n",
       "      <td>0.87</td>\n",
       "    </tr>\n",
       "    <tr>\n",
       "      <th>496</th>\n",
       "      <td>337</td>\n",
       "      <td>0.96</td>\n",
       "    </tr>\n",
       "    <tr>\n",
       "      <th>497</th>\n",
       "      <td>330</td>\n",
       "      <td>0.93</td>\n",
       "    </tr>\n",
       "    <tr>\n",
       "      <th>498</th>\n",
       "      <td>312</td>\n",
       "      <td>0.73</td>\n",
       "    </tr>\n",
       "    <tr>\n",
       "      <th>499</th>\n",
       "      <td>327</td>\n",
       "      <td>0.84</td>\n",
       "    </tr>\n",
       "  </tbody>\n",
       "</table>\n",
       "<p>500 rows × 2 columns</p>\n",
       "</div>"
      ],
      "text/plain": [
       "     GRE_Score  Chance_of_Admit\n",
       "0          337             0.92\n",
       "1          324             0.76\n",
       "2          316             0.72\n",
       "3          322             0.80\n",
       "4          314             0.65\n",
       "..         ...              ...\n",
       "495        332             0.87\n",
       "496        337             0.96\n",
       "497        330             0.93\n",
       "498        312             0.73\n",
       "499        327             0.84\n",
       "\n",
       "[500 rows x 2 columns]"
      ]
     },
     "execution_count": 58,
     "metadata": {},
     "output_type": "execute_result"
    }
   ],
   "source": [
    "df = df.drop(columns=['TOEFL_Score','University_Rating','SOP','LOR','Research'])\n",
    "df"
   ]
  },
  {
   "cell_type": "code",
   "execution_count": 59,
   "id": "2cb525d1-f226-4f28-9503-75e98e933b50",
   "metadata": {},
   "outputs": [],
   "source": [
    "Xl=df[['GRE_Score']]\n",
    "Yl=df['Chance_of_Admit']"
   ]
  },
  {
   "cell_type": "code",
   "execution_count": 60,
   "id": "a6043284-df9e-493a-8fc2-7a5fa5815a93",
   "metadata": {},
   "outputs": [
    {
     "name": "stdout",
     "output_type": "stream",
     "text": [
      "coefficient :  [0.00262238]\n",
      "intercept :  -0.11083053120262787\n"
     ]
    },
    {
     "data": {
      "text/html": [
       "<div>\n",
       "<style scoped>\n",
       "    .dataframe tbody tr th:only-of-type {\n",
       "        vertical-align: middle;\n",
       "    }\n",
       "\n",
       "    .dataframe tbody tr th {\n",
       "        vertical-align: top;\n",
       "    }\n",
       "\n",
       "    .dataframe thead th {\n",
       "        text-align: right;\n",
       "    }\n",
       "</style>\n",
       "<table border=\"1\" class=\"dataframe\">\n",
       "  <thead>\n",
       "    <tr style=\"text-align: right;\">\n",
       "      <th></th>\n",
       "      <th>GRE_Score</th>\n",
       "    </tr>\n",
       "  </thead>\n",
       "  <tbody>\n",
       "    <tr>\n",
       "      <th>305</th>\n",
       "      <td>321</td>\n",
       "    </tr>\n",
       "    <tr>\n",
       "      <th>107</th>\n",
       "      <td>338</td>\n",
       "    </tr>\n",
       "    <tr>\n",
       "      <th>350</th>\n",
       "      <td>318</td>\n",
       "    </tr>\n",
       "    <tr>\n",
       "      <th>334</th>\n",
       "      <td>312</td>\n",
       "    </tr>\n",
       "    <tr>\n",
       "      <th>142</th>\n",
       "      <td>331</td>\n",
       "    </tr>\n",
       "    <tr>\n",
       "      <th>...</th>\n",
       "      <td>...</td>\n",
       "    </tr>\n",
       "    <tr>\n",
       "      <th>320</th>\n",
       "      <td>317</td>\n",
       "    </tr>\n",
       "    <tr>\n",
       "      <th>15</th>\n",
       "      <td>314</td>\n",
       "    </tr>\n",
       "    <tr>\n",
       "      <th>484</th>\n",
       "      <td>317</td>\n",
       "    </tr>\n",
       "    <tr>\n",
       "      <th>125</th>\n",
       "      <td>300</td>\n",
       "    </tr>\n",
       "    <tr>\n",
       "      <th>265</th>\n",
       "      <td>313</td>\n",
       "    </tr>\n",
       "  </tbody>\n",
       "</table>\n",
       "<p>400 rows × 1 columns</p>\n",
       "</div>"
      ],
      "text/plain": [
       "     GRE_Score\n",
       "305        321\n",
       "107        338\n",
       "350        318\n",
       "334        312\n",
       "142        331\n",
       "..         ...\n",
       "320        317\n",
       "15         314\n",
       "484        317\n",
       "125        300\n",
       "265        313\n",
       "\n",
       "[400 rows x 1 columns]"
      ]
     },
     "execution_count": 60,
     "metadata": {},
     "output_type": "execute_result"
    }
   ],
   "source": [
    "from sklearn.model_selection import train_test_split\n",
    "X_trainl,X_testl,Y_trainl,Y_testl = train_test_split(Xl,Yl,train_size=0.8,random_state=10)\n",
    "\n",
    "from sklearn.linear_model import Lasso\n",
    "Lasso_model1 = Lasso(alpha=1)          \n",
    "Lasso_model1.fit(X_trainl,Y_trainl)\n",
    "\n",
    "print('coefficient : ',Lasso_model1.coef_)\n",
    "print('intercept : ',Lasso_model1.intercept_)\n",
    "X_trainl"
   ]
  },
  {
   "cell_type": "code",
   "execution_count": 61,
   "id": "5b42160d-b890-486f-a368-21c0c774f54d",
   "metadata": {},
   "outputs": [
    {
     "name": "stdout",
     "output_type": "stream",
     "text": [
      "train_RMSE :  0.11967905008914813\n",
      "train_R2 :  0.3004411827507456\n"
     ]
    },
    {
     "data": {
      "text/plain": [
       "0.3004411827507456"
      ]
     },
     "execution_count": 61,
     "metadata": {},
     "output_type": "execute_result"
    }
   ],
   "source": [
    "ypred_train = Lasso_model1.predict(X_trainl)\n",
    "\n",
    "from sklearn.metrics import mean_squared_error\n",
    "Tra_RMSE = np.sqrt(mean_squared_error(Y_trainl,ypred_train))\n",
    "print('train_RMSE : ',Tra_RMSE)\n",
    "\n",
    "from sklearn.metrics import r2_score\n",
    "R2_train = r2_score(Y_trainl,ypred_train)\n",
    "print('train_R2 : ',R2_train)\n",
    "# or                                    two ways to calculate r2\n",
    "Lasso_model1.score(X_trainl,Y_trainl)"
   ]
  },
  {
   "cell_type": "code",
   "execution_count": 62,
   "id": "fc420883-d48c-4a7a-aa14-f5754aa048ff",
   "metadata": {},
   "outputs": [
    {
     "name": "stdout",
     "output_type": "stream",
     "text": [
      "CV score :  0.2937375537763464\n"
     ]
    }
   ],
   "source": [
    "from sklearn.model_selection import cross_val_score\n",
    "CV = cross_val_score(Lasso_model1,X_trainl,Y_trainl,cv=5,scoring='r2').mean()\n",
    "print('CV score : ',CV)"
   ]
  },
  {
   "cell_type": "code",
   "execution_count": 63,
   "id": "dc1cb8fb-eeff-49e8-a38e-f15c7d190df8",
   "metadata": {},
   "outputs": [
    {
     "name": "stdout",
     "output_type": "stream",
     "text": [
      "test_RMSE :  0.11276126150628397\n",
      "test_R2 :  0.2642996323848734\n"
     ]
    },
    {
     "data": {
      "text/plain": [
       "0.2642996323848734"
      ]
     },
     "execution_count": 63,
     "metadata": {},
     "output_type": "execute_result"
    }
   ],
   "source": [
    "ypred_test = Lasso_model1.predict(X_testl)\n",
    "\n",
    "\n",
    "Tes_RMSE = np.sqrt(mean_squared_error(Y_testl,ypred_test))\n",
    "print('test_RMSE : ',Tes_RMSE)\n",
    "\n",
    "\n",
    "R2_test = r2_score(Y_testl,ypred_test)\n",
    "print('test_R2 : ',R2_test)\n",
    "# or                                    two ways to calculate r2\n",
    "Lasso_model1.score(X_testl,Y_testl)"
   ]
  },
  {
   "cell_type": "code",
   "execution_count": 65,
   "id": "759164c9-feed-4bb9-a1eb-08aff04be86b",
   "metadata": {},
   "outputs": [
    {
     "data": {
      "text/plain": [
       "array([0.54476541])"
      ]
     },
     "execution_count": 65,
     "metadata": {},
     "output_type": "execute_result"
    }
   ],
   "source": [
    "# future data prediction.\n",
    "\n",
    "Lasso_model1.predict([[250]])"
   ]
  },
  {
   "cell_type": "code",
   "execution_count": null,
   "id": "628aee5c-c88a-44a5-9e92-82d66ea0a2ee",
   "metadata": {},
   "outputs": [],
   "source": []
  },
  {
   "cell_type": "markdown",
   "id": "5d25d223-31b9-482b-982b-d8d49f5bd7c8",
   "metadata": {},
   "source": [
    "** according to model selection conditions \"RIDGE_MODEL\" is a good model out of 5 models... **"
   ]
  }
 ],
 "metadata": {
  "kernelspec": {
   "display_name": "Python 3 (ipykernel)",
   "language": "python",
   "name": "python3"
  },
  "language_info": {
   "codemirror_mode": {
    "name": "ipython",
    "version": 3
   },
   "file_extension": ".py",
   "mimetype": "text/x-python",
   "name": "python",
   "nbconvert_exporter": "python",
   "pygments_lexer": "ipython3",
   "version": "3.11.7"
  }
 },
 "nbformat": 4,
 "nbformat_minor": 5
}
